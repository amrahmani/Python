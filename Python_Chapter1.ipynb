{
  "cells": [
    {
      "cell_type": "markdown",
      "metadata": {
        "id": "view-in-github",
        "colab_type": "text"
      },
      "source": [
        "<a href=\"https://colab.research.google.com/github/amrahmani/Python/blob/main/Chapter_1.ipynb\" target=\"_parent\"><img src=\"https://colab.research.google.com/assets/colab-badge.svg\" alt=\"Open In Colab\"/></a>"
      ]
    },
    {
      "cell_type": "markdown",
      "source": [
        "**Chapter 1: Data Types and Operators**"
      ],
      "metadata": {
        "id": "2F7iB_gDaXdf"
      }
    },
    {
      "cell_type": "markdown",
      "source": [
        "**Data Types**"
      ],
      "metadata": {
        "id": "Cj0jvGkAav1q"
      }
    },
    {
      "cell_type": "code",
      "source": [
        "# This is a single-line comment.\n",
        "\n",
        "\"\"\"\n",
        "This is a multi-line comment.\n",
        "It can span multiple lines String\n",
        "and is often used for docstrings.\n",
        "\"\"\"\n",
        "\n",
        "print(\"Hello, world!\")  # Print the first message\n",
        "print(\"Python is fun!\") # Print the second message"
      ],
      "metadata": {
        "id": "BxVztabpdSel",
        "outputId": "a5688a1b-5dd0-42b8-e364-3f090eb42ae1",
        "colab": {
          "base_uri": "https://localhost:8080/"
        }
      },
      "execution_count": null,
      "outputs": [
        {
          "output_type": "stream",
          "name": "stdout",
          "text": [
            "Hello, world!\n",
            "Python is fun!\n"
          ]
        }
      ]
    },
    {
      "cell_type": "code",
      "source": [
        "# Create variables with different data types\n",
        "\"\"\"\n",
        "Integers (int) are whole numbers: x = 5\n",
        "floats (float) are decimals: y = 5.5\n",
        "strings (str) are text: z = \"hello\"\n",
        "Boolean (True, False): w = True\n",
        "\"\"\"\n",
        "x = 5\n",
        "y = 5.5\n",
        "z = \"hello\"\n",
        "w = True\n",
        "# Print the values of the variables\n",
        "print('Integer variable:', x)\n",
        "print(\"Float variable:\", y)\n",
        "print(\"String variable:\", z)\n",
        "print(\"Boolean variable:\", w)\n",
        "\n",
        "# Print the data types of the variables using type()\n",
        "print(\"Data type of integer_variable:\", type(x))\n",
        "print(\"Data type of float_variable:\", type(y))\n",
        "print(\"Data type of string_variable:\", type(z))\n",
        "print(\"Data type of Boolean_variable:\", type(w))"
      ],
      "metadata": {
        "id": "BjqZVFRBKsxH",
        "outputId": "04cb9397-5731-43bc-cfc0-369d37863d35",
        "colab": {
          "base_uri": "https://localhost:8080/"
        }
      },
      "execution_count": 5,
      "outputs": [
        {
          "output_type": "stream",
          "name": "stdout",
          "text": [
            "Integer variable: 5\n",
            "Float variable: 5.5\n",
            "String variable: hello\n",
            "Boolean variable: True\n",
            "Data type of integer_variable: <class 'int'>\n",
            "Data type of float_variable: <class 'float'>\n",
            "Data type of string_variable: <class 'str'>\n",
            "Data type of Boolean_variable: <class 'bool'>\n"
          ]
        }
      ]
    },
    {
      "cell_type": "code",
      "source": [
        "# Create an integer and a float\n",
        "integer_value = 19\n",
        "float_value = 19.74\n",
        "\n",
        "# Cast the float to an integer\n",
        "integer_from_float = int(float_value)\n",
        "\n",
        "# Print the original float, integer and the cast integer\n",
        "print(\"Original float:\", float_value)\n",
        "print(\"Integer cast from float:\", integer_from_float)\n",
        "print(\"Original Integer:\", integer_value)"
      ],
      "metadata": {
        "colab": {
          "base_uri": "https://localhost:8080/"
        },
        "id": "jJLdElJuM8mi",
        "outputId": "1b0419d0-1b61-45c2-a0a7-ad65adee2302"
      },
      "execution_count": 4,
      "outputs": [
        {
          "output_type": "stream",
          "name": "stdout",
          "text": [
            "Original float: 19.74\n",
            "Integer cast from float: 19\n",
            "Original Integer: 19\n"
          ]
        }
      ]
    },
    {
      "cell_type": "code",
      "source": [
        "# Create two string variables\n",
        "first_name = \"John\"\n",
        "last_name = \"Smith\"\n",
        "\n",
        "# Concatenate the strings with a space in between\n",
        "full_name = first_name + \" \" + last_name\n",
        "\n",
        "# Print the concatenated string and its length\n",
        "print(\"Full name:\", full_name)\n",
        "print(\"Length of full name:\", len(full_name))"
      ],
      "metadata": {
        "colab": {
          "base_uri": "https://localhost:8080/"
        },
        "id": "08qKHJCLW5hD",
        "outputId": "0236ff66-127d-49cf-af63-e60635320fe4"
      },
      "execution_count": 6,
      "outputs": [
        {
          "output_type": "stream",
          "name": "stdout",
          "text": [
            "Full name: John Smith\n",
            "Length of full name: 10\n"
          ]
        }
      ]
    },
    {
      "cell_type": "code",
      "source": [
        "name = \"John\"\n",
        "age = 50\n",
        "pi = 3.14159\n",
        "\n",
        "# Basic usage\n",
        "print(f\"My name is {name} and I am {age} years old.\")\n",
        "\n",
        "# Including expressions\n",
        "print(f\"Next year, I will be {age + 1} years old.\")\n",
        "\n",
        "# Formatting numbers\n",
        "print(f\"The value of pi is approximately {pi:.2f}\") #rounds pi to 2 decimal places\n",
        "\n",
        "#Calling a function\n",
        "def multiply(a, b):\n",
        "    return a * b\n",
        "\n",
        "print(f\"2 multiplied by 5 is {multiply(2,5)}\")\n",
        "\n",
        "# Using variables in the string.\n",
        "print(f\"{name=}, {age=}\") #prints variable name and value."
      ],
      "metadata": {
        "colab": {
          "base_uri": "https://localhost:8080/"
        },
        "id": "8JDdGyJJbIZt",
        "outputId": "1c74e07c-7a6e-4d12-d412-a0c8c9243053"
      },
      "execution_count": 14,
      "outputs": [
        {
          "output_type": "stream",
          "name": "stdout",
          "text": [
            "My name is John and I am 50 years old.\n",
            "Next year, I will be 51 years old.\n",
            "The value of pi is approximately 3.14\n",
            "2 multiplied by 5 is 10\n",
            "name='John', age=50\n"
          ]
        }
      ]
    },
    {
      "cell_type": "code",
      "source": [
        "a = \"5\"; b = 2; print(a + str(b))."
      ],
      "metadata": {
        "colab": {
          "base_uri": "https://localhost:8080/"
        },
        "id": "7h98eRmRX534",
        "outputId": "44730c28-e451-4c07-b66a-a0187f324d6c"
      },
      "execution_count": 7,
      "outputs": [
        {
          "output_type": "stream",
          "name": "stdout",
          "text": [
            "52\n"
          ]
        }
      ]
    },
    {
      "cell_type": "markdown",
      "source": [
        "**Operators**"
      ],
      "metadata": {
        "id": "x8kSMw28a6Xb"
      }
    },
    {
      "cell_type": "code",
      "source": [
        "# Create two integer variables\n",
        "num1 = 12\n",
        "num2 = 4\n",
        "\n",
        "# Addition\n",
        "addition_result = num1 + num2\n",
        "print(f\"{num1} + {num2} = {addition_result}\")\n",
        "\n",
        "# Subtraction\n",
        "subtraction_result = num1 - num2\n",
        "print(f\"{num1} - {num2} = {subtraction_result}\")\n",
        "\n",
        "# Multiplication\n",
        "multiplication_result = num1 * num2\n",
        "print(f\"{num1} * {num2} = {multiplication_result}\")\n",
        "\n",
        "# Division\n",
        "division_result = num1 / num2\n",
        "print(f\"{num1} / {num2} = {division_result}\")\n",
        "\n",
        "# Integer Division\n",
        "integer_division_result = num1 // num2\n",
        "print(f\"{num1} // {num2} = {integer_division_result}\")\n",
        "\n",
        "# Modulus (remainder)\n",
        "modulus_result = num1 % num2\n",
        "print(f\"{num1} % {num2} = {modulus_result}\")\n",
        "\n",
        "# Exponentiation\n",
        "exponentiation_result = num1 ** num2\n",
        "print(f\"{num1} ** {num2} = {exponentiation_result}\")"
      ],
      "metadata": {
        "id": "i3sopxyc38Q5",
        "outputId": "a826ba12-3381-4a57-c29d-fa8da679400e",
        "colab": {
          "base_uri": "https://localhost:8080/"
        }
      },
      "execution_count": 2,
      "outputs": [
        {
          "output_type": "stream",
          "name": "stdout",
          "text": [
            "12 + 4 = 16\n",
            "12 - 4 = 8\n",
            "12 * 4 = 48\n",
            "12 / 4 = 3.0\n",
            "12 // 4 = 3\n",
            "12 % 4 = 0\n",
            "12 ** 4 = 20736\n"
          ]
        }
      ]
    },
    {
      "cell_type": "code",
      "source": [
        "num1 = float(input(\"Enter the first number: \"))\n",
        "num2 = float(input(\"Enter the second number: \"))\n",
        "sum_result = num1 + num2\n",
        "print(\"The sum is:\", sum_result)"
      ],
      "metadata": {
        "colab": {
          "base_uri": "https://localhost:8080/"
        },
        "id": "H8gh4OVuc3iQ",
        "outputId": "0f26985e-ce80-41ce-d285-466995ce0c11"
      },
      "execution_count": null,
      "outputs": [
        {
          "output_type": "stream",
          "name": "stdout",
          "text": [
            "Enter the first number: 1\n",
            "Enter the second number: 2\n",
            "The sum is: 3.0\n"
          ]
        }
      ]
    },
    {
      "cell_type": "code",
      "source": [
        "# Get the meal cost from the user\n",
        "meal_cost = float(input(\"Enter the cost of the meal: $\"))\n",
        "\n",
        "# Calculate the tip (15%)\n",
        "tip_amount = meal_cost * 0.15\n",
        "\n",
        "# Calculate the total bill\n",
        "total_bill = meal_cost + tip_amount\n",
        "\n",
        "# Print the results\n",
        "print(\"Meal Cost: $\", meal_cost)\n",
        "print(\"Tip (15%): $\", tip_amount)\n",
        "print(\"Total Bill: $\", total_bill)"
      ],
      "metadata": {
        "colab": {
          "base_uri": "https://localhost:8080/"
        },
        "id": "bzxZevAzcUU3",
        "outputId": "29f44d13-7c1e-4619-ef85-d327a5fd47c4"
      },
      "execution_count": null,
      "outputs": [
        {
          "output_type": "stream",
          "name": "stdout",
          "text": [
            "Enter the cost of the meal: $100\n",
            "Meal Cost: $ 100.0\n",
            "Tip (15%): $ 15.0\n",
            "Total Bill: $ 115.0\n"
          ]
        }
      ]
    }
  ],
  "metadata": {
    "colab": {
      "name": "Chapter_1",
      "provenance": [],
      "include_colab_link": true
    },
    "kernelspec": {
      "display_name": "Python 3",
      "name": "python3"
    }
  },
  "nbformat": 4,
  "nbformat_minor": 0
}
