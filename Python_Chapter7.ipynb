{
  "nbformat": 4,
  "nbformat_minor": 0,
  "metadata": {
    "colab": {
      "provenance": [],
      "authorship_tag": "ABX9TyN0n/WzBj8o2/Fmq6K0xUj5",
      "include_colab_link": true
    },
    "kernelspec": {
      "name": "python3",
      "display_name": "Python 3"
    },
    "language_info": {
      "name": "python"
    }
  },
  "cells": [
    {
      "cell_type": "markdown",
      "metadata": {
        "id": "view-in-github",
        "colab_type": "text"
      },
      "source": [
        "<a href=\"https://colab.research.google.com/github/amrahmani/Python/blob/main/Python_Chapter7.ipynb\" target=\"_parent\"><img src=\"https://colab.research.google.com/assets/colab-badge.svg\" alt=\"Open In Colab\"/></a>"
      ]
    },
    {
      "cell_type": "code",
      "execution_count": 2,
      "metadata": {
        "colab": {
          "base_uri": "https://localhost:8080/"
        },
        "id": "SCd9kZiLarsG",
        "outputId": "5eb8e364-521d-4680-d0d9-aafa1c252fe0"
      },
      "outputs": [
        {
          "output_type": "stream",
          "name": "stdout",
          "text": [
            "Department: Computer Science\n",
            " - Python Programming\n",
            " - Data Structures\n"
          ]
        }
      ],
      "source": [
        "class Department:\n",
        "    def __init__(self, name):\n",
        "        self.name = name\n",
        "        self.courses = []  # List to store courses\n",
        "    def add_course(self, course):\n",
        "        self.courses.append(course)\n",
        "\n",
        "class Course:\n",
        "    def __init__(self, title):\n",
        "        self.title = title\n",
        "\n",
        "# Creating objects\n",
        "dept = Department(\"Computer Science\")\n",
        "course1 = Course(\"Python Programming\")\n",
        "course2 = Course(\"Data Structures\")\n",
        "\n",
        "# Aggregation: Adding courses to department\n",
        "dept.add_course(course1)\n",
        "dept.add_course(course2)\n",
        "\n",
        "# Display department and courses\n",
        "print(f\"Department: {dept.name}\")\n",
        "for course in dept.courses:\n",
        "    print(f\" - {course.title}\")"
      ]
    }
  ]
}