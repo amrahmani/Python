{
  "nbformat": 4,
  "nbformat_minor": 0,
  "metadata": {
    "colab": {
      "provenance": [],
      "authorship_tag": "ABX9TyNgO4YmIDqH/dWihbs3SGrZ",
      "include_colab_link": true
    },
    "kernelspec": {
      "name": "python3",
      "display_name": "Python 3"
    },
    "language_info": {
      "name": "python"
    }
  },
  "cells": [
    {
      "cell_type": "markdown",
      "metadata": {
        "id": "view-in-github",
        "colab_type": "text"
      },
      "source": [
        "<a href=\"https://colab.research.google.com/github/amrahmani/Python/blob/main/Python_Chapter7.ipynb\" target=\"_parent\"><img src=\"https://colab.research.google.com/assets/colab-badge.svg\" alt=\"Open In Colab\"/></a>"
      ]
    },
    {
      "cell_type": "markdown",
      "source": [
        "**Aggregation in Python:** An aggregation is a relationship where one object contains another, but both can exist independently."
      ],
      "metadata": {
        "id": "B3glUtrfdvMP"
      }
    },
    {
      "cell_type": "code",
      "execution_count": 2,
      "metadata": {
        "colab": {
          "base_uri": "https://localhost:8080/"
        },
        "id": "SCd9kZiLarsG",
        "outputId": "5eb8e364-521d-4680-d0d9-aafa1c252fe0"
      },
      "outputs": [
        {
          "output_type": "stream",
          "name": "stdout",
          "text": [
            "Department: Computer Science\n",
            " - Python Programming\n",
            " - Data Structures\n"
          ]
        }
      ],
      "source": [
        "class Department:\n",
        "    def __init__(self, name):\n",
        "        self.name = name\n",
        "        self.courses = []  # List to store courses\n",
        "    def add_course(self, course):\n",
        "        self.courses.append(course)\n",
        "\n",
        "class Course:\n",
        "    def __init__(self, title):\n",
        "        self.title = title\n",
        "\n",
        "# Creating objects\n",
        "dept = Department(\"Computer Science\")\n",
        "course1 = Course(\"Python Programming\")\n",
        "course2 = Course(\"Data Structures\")\n",
        "\n",
        "# Aggregation: Adding courses to department\n",
        "dept.add_course(course1)\n",
        "dept.add_course(course2)\n",
        "\n",
        "# Display department and courses\n",
        "print(f\"Department: {dept.name}\")\n",
        "for course in dept.courses:\n",
        "    print(f\" - {course.title}\")"
      ]
    },
    {
      "cell_type": "markdown",
      "source": [
        "**Composition in Python:** A composition is a relationship where one object is part of another and cannot exist independently."
      ],
      "metadata": {
        "id": "LtvqZCHYdpMF"
      }
    },
    {
      "cell_type": "code",
      "source": [
        "class Heart:\n",
        "    def __init__(self, bpm):\n",
        "        self.bpm = bpm  # Beats per minute (heart rate)\n",
        "\n",
        "class Person:\n",
        "    def __init__(self, name, heart_rate):\n",
        "        self.name = name\n",
        "        self.heart = Heart(heart_rate)  # Composition with Heart\n",
        "\n",
        "    def display_details(self):\n",
        "        print(f\"Person: {self.name}, Heart Rate: {self.heart.bpm} BPM\")\n",
        "\n",
        "# Creating a Person object with a composed Heart\n",
        "person = Person(\"Alice\", 72)\n",
        "person.display_details()"
      ],
      "metadata": {
        "colab": {
          "base_uri": "https://localhost:8080/"
        },
        "id": "7xN30NWndbk5",
        "outputId": "eadc2405-a0c4-456c-e022-d0b4f68ed08f"
      },
      "execution_count": 4,
      "outputs": [
        {
          "output_type": "stream",
          "name": "stdout",
          "text": [
            "Person: Alice, Heart Rate: 72 BPM\n"
          ]
        }
      ]
    },
    {
      "cell_type": "markdown",
      "source": [
        "**Low Coupling:** Create a ShoppingCart class that interacts with a PaymentGateway class through a method rather than directly accessing its attributes."
      ],
      "metadata": {
        "id": "Y1NEvTM-fasq"
      }
    },
    {
      "cell_type": "code",
      "source": [
        "class PaymentGateway:\n",
        "    def process_payment(self, amount):\n",
        "        print(f\"Processing payment of ${amount}\")\n",
        "\n",
        "class ShoppingCart:\n",
        "    def __init__(self):\n",
        "        self.total = 0\n",
        "\n",
        "    def add_item(self, price):\n",
        "        self.total += price\n",
        "\n",
        "    def checkout(self, payment_gateway):\n",
        "        payment_gateway.process_payment(self.total)\n",
        "\n",
        "# Example usage\n",
        "cart = ShoppingCart()\n",
        "cart.add_item(100)\n",
        "cart.add_item(50)\n",
        "gateway = PaymentGateway()\n",
        "cart.checkout(gateway)"
      ],
      "metadata": {
        "colab": {
          "base_uri": "https://localhost:8080/"
        },
        "id": "wMg0O7QzfbBR",
        "outputId": "a319167c-7f2c-42d7-84dc-c93ea8904a77"
      },
      "execution_count": 7,
      "outputs": [
        {
          "output_type": "stream",
          "name": "stdout",
          "text": [
            "Processing payment of $150\n"
          ]
        }
      ]
    },
    {
      "cell_type": "markdown",
      "source": [
        "**High Cohesion:** Student class to focus on a single responsibility - calculating the average grade."
      ],
      "metadata": {
        "id": "24EpBUl8g118"
      }
    },
    {
      "cell_type": "code",
      "source": [
        "class Student:\n",
        "    def __init__(self, name, grades):\n",
        "        self.name = name\n",
        "        self.grades = grades\n",
        "\n",
        "    def calculate_average(self):\n",
        "        # Calculate and format the average to 2 decimal places\n",
        "        return round(sum(self.grades) / len(self.grades), 2)\n",
        "\n",
        "# Example usage\n",
        "student = Student(\"Alice\", [85, 90, 78])\n",
        "print(f\"{student.name}'s average grade: {student.calculate_average()}\")"
      ],
      "metadata": {
        "colab": {
          "base_uri": "https://localhost:8080/"
        },
        "id": "zTUTsarng2Lz",
        "outputId": "f0402430-d5d5-4c21-87df-435a303eb3b1"
      },
      "execution_count": 9,
      "outputs": [
        {
          "output_type": "stream",
          "name": "stdout",
          "text": [
            "Alice's average grade: 84.33\n"
          ]
        }
      ]
    },
    {
      "cell_type": "markdown",
      "source": [
        "**Encapsulation:** Use private attributes and property decorators to manage sensitive data securely."
      ],
      "metadata": {
        "id": "hmgzRjT8jlKl"
      }
    },
    {
      "cell_type": "code",
      "source": [
        "class BankAccount:\n",
        "    def __init__(self, account_number, balance):\n",
        "        self.__account_number = account_number  # Private attribute\n",
        "        self.__balance = balance\n",
        "\n",
        "    @property\n",
        "    def balance(self):\n",
        "        return self.__balance\n",
        "\n",
        "    @balance.setter\n",
        "    def balance(self, amount):\n",
        "        if amount < 0:\n",
        "            raise ValueError(\"Balance cannot be negative\")\n",
        "        self.__balance = amount\n",
        "\n",
        "# Example usage\n",
        "account = BankAccount(\"123456\", 1000)\n",
        "print(account.balance)  # Get balance\n",
        "account.balance = 1500  # Update balance\n",
        "print(account.balance)"
      ],
      "metadata": {
        "colab": {
          "base_uri": "https://localhost:8080/"
        },
        "id": "xxDeF1kcjljf",
        "outputId": "a0e2a211-4161-418c-cfe6-75d5a6ae56f6"
      },
      "execution_count": 11,
      "outputs": [
        {
          "output_type": "stream",
          "name": "stdout",
          "text": [
            "1000\n",
            "1500\n"
          ]
        }
      ]
    }
  ]
}