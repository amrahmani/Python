{
  "nbformat": 4,
  "nbformat_minor": 0,
  "metadata": {
    "colab": {
      "provenance": [],
      "authorship_tag": "ABX9TyOiPbgJucCmzhHy3/h4SGer",
      "include_colab_link": true
    },
    "kernelspec": {
      "name": "python3",
      "display_name": "Python 3"
    },
    "language_info": {
      "name": "python"
    }
  },
  "cells": [
    {
      "cell_type": "markdown",
      "metadata": {
        "id": "view-in-github",
        "colab_type": "text"
      },
      "source": [
        "<a href=\"https://colab.research.google.com/github/amrahmani/Python/blob/main/Python_Chapter7.ipynb\" target=\"_parent\"><img src=\"https://colab.research.google.com/assets/colab-badge.svg\" alt=\"Open In Colab\"/></a>"
      ]
    },
    {
      "cell_type": "markdown",
      "source": [
        "**Aggregation in Python:** An aggregation is a relationship where one object contains another, but both can exist independently."
      ],
      "metadata": {
        "id": "B3glUtrfdvMP"
      }
    },
    {
      "cell_type": "code",
      "execution_count": 2,
      "metadata": {
        "colab": {
          "base_uri": "https://localhost:8080/"
        },
        "id": "SCd9kZiLarsG",
        "outputId": "5eb8e364-521d-4680-d0d9-aafa1c252fe0"
      },
      "outputs": [
        {
          "output_type": "stream",
          "name": "stdout",
          "text": [
            "Department: Computer Science\n",
            " - Python Programming\n",
            " - Data Structures\n"
          ]
        }
      ],
      "source": [
        "class Department:\n",
        "    def __init__(self, name):\n",
        "        self.name = name\n",
        "        self.courses = []  # List to store courses\n",
        "    def add_course(self, course):\n",
        "        self.courses.append(course)\n",
        "\n",
        "class Course:\n",
        "    def __init__(self, title):\n",
        "        self.title = title\n",
        "\n",
        "# Creating objects\n",
        "dept = Department(\"Computer Science\")\n",
        "course1 = Course(\"Python Programming\")\n",
        "course2 = Course(\"Data Structures\")\n",
        "\n",
        "# Aggregation: Adding courses to department\n",
        "dept.add_course(course1)\n",
        "dept.add_course(course2)\n",
        "\n",
        "# Display department and courses\n",
        "print(f\"Department: {dept.name}\")\n",
        "for course in dept.courses:\n",
        "    print(f\" - {course.title}\")"
      ]
    },
    {
      "cell_type": "markdown",
      "source": [
        "**Composition in Python:** A composition is a relationship where one object is part of another and cannot exist independently."
      ],
      "metadata": {
        "id": "LtvqZCHYdpMF"
      }
    },
    {
      "cell_type": "code",
      "source": [
        "class Heart:\n",
        "    def __init__(self, bpm):\n",
        "        self.bpm = bpm  # Beats per minute (heart rate)\n",
        "\n",
        "class Person:\n",
        "    def __init__(self, name, heart_rate):\n",
        "        self.name = name\n",
        "        self.heart = Heart(heart_rate)  # Composition with Heart\n",
        "\n",
        "    def display_details(self):\n",
        "        print(f\"Person: {self.name}, Heart Rate: {self.heart.bpm} BPM\")\n",
        "\n",
        "# Creating a Person object with a composed Heart\n",
        "person = Person(\"Alice\", 72)\n",
        "person.display_details()"
      ],
      "metadata": {
        "colab": {
          "base_uri": "https://localhost:8080/"
        },
        "id": "7xN30NWndbk5",
        "outputId": "eadc2405-a0c4-456c-e022-d0b4f68ed08f"
      },
      "execution_count": 4,
      "outputs": [
        {
          "output_type": "stream",
          "name": "stdout",
          "text": [
            "Person: Alice, Heart Rate: 72 BPM\n"
          ]
        }
      ]
    }
  ]
}