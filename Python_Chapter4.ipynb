{
  "nbformat": 4,
  "nbformat_minor": 0,
  "metadata": {
    "colab": {
      "provenance": [],
      "authorship_tag": "ABX9TyMotsNq8ucsgccvqDISImGV",
      "include_colab_link": true
    },
    "kernelspec": {
      "name": "python3",
      "display_name": "Python 3"
    },
    "language_info": {
      "name": "python"
    }
  },
  "cells": [
    {
      "cell_type": "markdown",
      "metadata": {
        "id": "view-in-github",
        "colab_type": "text"
      },
      "source": [
        "<a href=\"https://colab.research.google.com/github/amrahmani/Python/blob/main/Python_Chapter4.ipynb\" target=\"_parent\"><img src=\"https://colab.research.google.com/assets/colab-badge.svg\" alt=\"Open In Colab\"/></a>"
      ]
    },
    {
      "cell_type": "code",
      "source": [
        "import unittest\n",
        "class Calculator:\n",
        "    def add(self, a, b):\n",
        "        return a + b\n",
        "\n",
        "    def subtract(self, a, b):\n",
        "        return a - b\n",
        "\n",
        "# Unit Tests\n",
        "class TestCalculator(unittest.TestCase):\n",
        "    def test_add(self):\n",
        "        calc = Calculator()\n",
        "        self.assertEqual(calc.add(2, 3), 5)\n",
        "\n",
        "    def test_subtract(self):\n",
        "        calc = Calculator()\n",
        "        self.assertEqual(calc.subtract(5, 3), 2)\n",
        "\n",
        "if __name__ == \"__main__\":\n",
        "    unittest.main(argv=['first-arg-is-ignored'], exit=False) # Added argv and exit=False for Jupyter/interactive environments"
      ],
      "metadata": {
        "colab": {
          "base_uri": "https://localhost:8080/"
        },
        "id": "l2lEwKJFpEr0",
        "outputId": "020842de-3105-478c-9271-feab2d10c208"
      },
      "execution_count": null,
      "outputs": [
        {
          "output_type": "stream",
          "name": "stderr",
          "text": [
            "...\n",
            "----------------------------------------------------------------------\n",
            "Ran 3 tests in 0.003s\n",
            "\n",
            "OK\n"
          ]
        }
      ]
    },
    {
      "cell_type": "code",
      "execution_count": null,
      "metadata": {
        "colab": {
          "base_uri": "https://localhost:8080/"
        },
        "id": "Xj-tRIj8meoR",
        "outputId": "d26b9716-dab3-45e8-981a-26c5f61f9cab"
      },
      "outputs": [
        {
          "output_type": "stream",
          "name": "stderr",
          "text": [
            ".\n",
            "----------------------------------------------------------------------\n",
            "Ran 1 test in 0.001s\n",
            "\n",
            "OK\n"
          ]
        }
      ],
      "source": [
        "import unittest\n",
        "\n",
        "class Address:\n",
        "    def __init__(self, street, city):\n",
        "        self.street = street\n",
        "        self.city = city\n",
        "\n",
        "class Student:\n",
        "    def __init__(self, name, address): # 'address' here is expected to be an Address object\n",
        "        self.name = name\n",
        "        self.address = address\n",
        "\n",
        "    def display_info(self):\n",
        "        return f\"{self.name}, {self.address.street}, {self.address.city}\"\n",
        "\n",
        "class TestInheritance(unittest.TestCase):\n",
        "    def test_inheritance(self):\n",
        "        address = Address(\"123 Main St\", \"Springfield\")\n",
        "        student = Student(\"Alice\", address)\n",
        "        self.assertEqual(student.display_info(), \"Alice, 123 Main St, Springfield\")\n",
        "\n",
        "# Example of how to run the test if this were a script:\n",
        "if __name__ == '__main__':\n",
        "    unittest.main(argv=['first-arg-is-ignored'], exit=False) # Added argv and exit=False for Jupyter/interactive environments"
      ]
    },
    {
      "cell_type": "markdown",
      "source": [
        "**Polymorphism**"
      ],
      "metadata": {
        "id": "5sCir37juGQ8"
      }
    },
    {
      "cell_type": "code",
      "source": [
        "class Animal:\n",
        "    def speak(self):\n",
        "        # This method is meant to be overridden by subclasses.\n",
        "        # 'pass' is used here because there's no default generic animal sound.\n",
        "        pass\n",
        "\n",
        "class Dog(Animal):\n",
        "    def speak(self):\n",
        "        return \"Woof!\"\n",
        "\n",
        "class Cat(Animal):\n",
        "    def speak(self):\n",
        "        return \"Meow!\"\n",
        "\n",
        "# Create instances of Dog and Cat\n",
        "animals = [Dog(), Cat()]\n",
        "\n",
        "for animal in animals:\n",
        "    print(animal.speak())"
      ],
      "metadata": {
        "colab": {
          "base_uri": "https://localhost:8080/"
        },
        "id": "oiXLOAiztyro",
        "outputId": "ff16ce6e-b37a-4cb0-f0c7-d046547c0eef"
      },
      "execution_count": 1,
      "outputs": [
        {
          "output_type": "stream",
          "name": "stdout",
          "text": [
            "Woof!\n",
            "Meow!\n"
          ]
        }
      ]
    },
    {
      "cell_type": "code",
      "source": [
        "from abc import ABC, abstractmethod\n",
        "class Animal(ABC):\n",
        "  @abstractmethod\n",
        "  def speak(self):\n",
        "    pass\n",
        "class Dog(Animal):\n",
        "  def speak(self):\n",
        "    return \"Woof!\"\n",
        "\n",
        "# Create an instance of Dog\n",
        "animal = Dog()\n",
        "print(animal.speak())"
      ],
      "metadata": {
        "colab": {
          "base_uri": "https://localhost:8080/"
        },
        "id": "Hh2p5n9kwqp7",
        "outputId": "b139fc20-5ec4-49b2-ca96-eee871b6b3ac"
      },
      "execution_count": 5,
      "outputs": [
        {
          "output_type": "stream",
          "name": "stdout",
          "text": [
            "Woof!\n"
          ]
        }
      ]
    },
    {
      "cell_type": "markdown",
      "source": [
        "**try/except**"
      ],
      "metadata": {
        "id": "CJTBV1tF0hBI"
      }
    },
    {
      "cell_type": "code",
      "source": [
        "class Calculator:\n",
        "  def divide(self, a, b):\n",
        "    try:\n",
        "      return a / b\n",
        "    except ZeroDivisionError:\n",
        "      return \"Cannot divide by zero\"\n",
        "    except TypeError:\n",
        "      return \"Inputs must be numbers\"\n",
        "calc = Calculator()\n",
        "print(calc.divide(10, 2))  # Output: 5.0\n",
        "print(calc.divide(10, 0))  # Output: Cannot divide by zero\n",
        "print(calc.divide(10, \"a\"))  # Output: Inputs must be numbers"
      ],
      "metadata": {
        "colab": {
          "base_uri": "https://localhost:8080/"
        },
        "id": "PPAubVrL0gIF",
        "outputId": "5ce3f31e-8c9b-462b-862c-77c6ce68e316"
      },
      "execution_count": 7,
      "outputs": [
        {
          "output_type": "stream",
          "name": "stdout",
          "text": [
            "5.0\n",
            "Cannot divide by zero\n",
            "Inputs must be numbers\n"
          ]
        }
      ]
    },
    {
      "cell_type": "markdown",
      "source": [
        "**logging**"
      ],
      "metadata": {
        "id": "fBS3GdYo1iRt"
      }
    },
    {
      "cell_type": "code",
      "source": [
        "import logging\n",
        "import os # Import os module to check current directory\n",
        "\n",
        "# Configure logging at the beginning of the script\n",
        "logging.basicConfig(\n",
        "    level=logging.DEBUG,\n",
        "    filename=\"app.log\",\n",
        "    filemode=\"w\",\n",
        "    format=\"%(name)s - %(levelname)s - %(message)s\"\n",
        ")\n",
        "\n",
        "# --- Added for verification ---\n",
        "try:\n",
        "    # Attempt to write a test log entry immediately after setup\n",
        "    logging.info(\"Logging setup confirmed. Attempting to write to app.log.\")\n",
        "    print(f\"Log file 'app.log' should be created in: {os.getcwd()}\")\n",
        "except Exception as e:\n",
        "    print(f\"Error during logging setup confirmation: {e}\")\n",
        "# --- End of verification ---\n",
        "\n",
        "class Calculator:\n",
        "    def divide(self, a, b):\n",
        "        try:\n",
        "            result = a / b\n",
        "            logging.info(f\"Division successful: {a} / {b} = {result}\")\n",
        "            return result\n",
        "        except ZeroDivisionError:\n",
        "            logging.error(\"Attempted to divide by zero\")\n",
        "            return \"Cannot divide by zero\"\n",
        "\n",
        "# Create an instance of the Calculator\n",
        "calc = Calculator()\n",
        "\n",
        "# Test cases\n",
        "print(calc.divide(10, 2))\n",
        "print(calc.divide(10, 0))"
      ],
      "metadata": {
        "colab": {
          "base_uri": "https://localhost:8080/"
        },
        "id": "xSsknICu1i9Z",
        "outputId": "2313d072-ebee-4686-acd7-4607c4f22eef"
      },
      "execution_count": 14,
      "outputs": [
        {
          "output_type": "stream",
          "name": "stderr",
          "text": [
            "ERROR:root:Attempted to divide by zero\n"
          ]
        },
        {
          "output_type": "stream",
          "name": "stdout",
          "text": [
            "Log file 'app.log' should be created in: /content\n",
            "5.0\n",
            "Cannot divide by zero\n"
          ]
        }
      ]
    },
    {
      "cell_type": "code",
      "source": [
        "!pwd"
      ],
      "metadata": {
        "colab": {
          "base_uri": "https://localhost:8080/"
        },
        "id": "zapxXCdb2LIP",
        "outputId": "72cf489f-2390-42dc-8187-2c3bea38b81e"
      },
      "execution_count": 13,
      "outputs": [
        {
          "output_type": "stream",
          "name": "stdout",
          "text": [
            "/content\n"
          ]
        }
      ]
    },
    {
      "cell_type": "code",
      "source": [
        "class Person:\n",
        "    def __init__(self, name, age):\n",
        "        # Call setters to ensure validation on initialization\n",
        "        self.set_name(name)\n",
        "        self.set_age(age)\n",
        "\n",
        "    def set_name(self, name):\n",
        "        if not isinstance(name, str):\n",
        "            raise TypeError(\"Name must be a string\")\n",
        "        # Use a single leading underscore for internal use, or two for name mangling if truly private\n",
        "        self.__name = name\n",
        "\n",
        "    # Corrected indentation for the set_age method and its contents\n",
        "    def set_age(self, age):\n",
        "        if not isinstance(age, int) or age <= 0:\n",
        "            raise ValueError(\"Age must be a positive integer\")\n",
        "        self.__age = age\n",
        "\n",
        "    # Corrected indentation for the display_info method\n",
        "    def display_info(self):\n",
        "        return f\"Name: {self.__name}, Age: {self.__age}\"\n",
        "\n",
        "# Test cases\n",
        "try:\n",
        "    person1 = Person(\"Alice\", 30)\n",
        "    print(person1.display_info()) # Expected: Name: Alice, Age: 30\n",
        "\n",
        "    person2 = Person(\"Bob\", -5)  # Raises ValueError\n",
        "except ValueError as e:\n",
        "    print(e)  # Expected Output: Age must be a positive integer\n",
        "\n",
        "try:\n",
        "    person3 = Person(123, 25) # Raises TypeError\n",
        "except TypeError as e:\n",
        "    print(e) # Expected Output: Name must be a string"
      ],
      "metadata": {
        "colab": {
          "base_uri": "https://localhost:8080/"
        },
        "id": "9aff25E05STL",
        "outputId": "fde05ce8-faba-4095-debb-a049d1634aa9"
      },
      "execution_count": 15,
      "outputs": [
        {
          "output_type": "stream",
          "name": "stdout",
          "text": [
            "Name: Alice, Age: 30\n",
            "Age must be a positive integer\n",
            "Name must be a string\n"
          ]
        }
      ]
    }
  ]
}