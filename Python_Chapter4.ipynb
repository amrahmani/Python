{
  "nbformat": 4,
  "nbformat_minor": 0,
  "metadata": {
    "colab": {
      "provenance": [],
      "authorship_tag": "ABX9TyN0tLdMedsdMyBCnCOV/1HL",
      "include_colab_link": true
    },
    "kernelspec": {
      "name": "python3",
      "display_name": "Python 3"
    },
    "language_info": {
      "name": "python"
    }
  },
  "cells": [
    {
      "cell_type": "markdown",
      "metadata": {
        "id": "view-in-github",
        "colab_type": "text"
      },
      "source": [
        "<a href=\"https://colab.research.google.com/github/amrahmani/Python/blob/main/Python_Chapter4.ipynb\" target=\"_parent\"><img src=\"https://colab.research.google.com/assets/colab-badge.svg\" alt=\"Open In Colab\"/></a>"
      ]
    },
    {
      "cell_type": "code",
      "source": [
        "import unittest\n",
        "class Calculator:\n",
        "    def add(self, a, b):\n",
        "        return a + b\n",
        "\n",
        "    def subtract(self, a, b):\n",
        "        return a - b\n",
        "\n",
        "# Unit Tests\n",
        "class TestCalculator(unittest.TestCase):\n",
        "    def test_add(self):\n",
        "        calc = Calculator()\n",
        "        self.assertEqual(calc.add(2, 3), 5)\n",
        "\n",
        "    def test_subtract(self):\n",
        "        calc = Calculator()\n",
        "        self.assertEqual(calc.subtract(5, 3), 2)\n",
        "\n",
        "if __name__ == \"__main__\":\n",
        "    unittest.main(argv=['first-arg-is-ignored'], exit=False) # Added argv and exit=False for Jupyter/interactive environments"
      ],
      "metadata": {
        "colab": {
          "base_uri": "https://localhost:8080/"
        },
        "id": "l2lEwKJFpEr0",
        "outputId": "020842de-3105-478c-9271-feab2d10c208"
      },
      "execution_count": null,
      "outputs": [
        {
          "output_type": "stream",
          "name": "stderr",
          "text": [
            "...\n",
            "----------------------------------------------------------------------\n",
            "Ran 3 tests in 0.003s\n",
            "\n",
            "OK\n"
          ]
        }
      ]
    },
    {
      "cell_type": "code",
      "execution_count": null,
      "metadata": {
        "colab": {
          "base_uri": "https://localhost:8080/"
        },
        "id": "Xj-tRIj8meoR",
        "outputId": "d26b9716-dab3-45e8-981a-26c5f61f9cab"
      },
      "outputs": [
        {
          "output_type": "stream",
          "name": "stderr",
          "text": [
            ".\n",
            "----------------------------------------------------------------------\n",
            "Ran 1 test in 0.001s\n",
            "\n",
            "OK\n"
          ]
        }
      ],
      "source": [
        "import unittest\n",
        "\n",
        "class Address:\n",
        "    def __init__(self, street, city):\n",
        "        self.street = street\n",
        "        self.city = city\n",
        "\n",
        "class Student:\n",
        "    def __init__(self, name, address): # 'address' here is expected to be an Address object\n",
        "        self.name = name\n",
        "        self.address = address\n",
        "\n",
        "    def display_info(self):\n",
        "        return f\"{self.name}, {self.address.street}, {self.address.city}\"\n",
        "\n",
        "class TestInheritance(unittest.TestCase):\n",
        "    def test_inheritance(self):\n",
        "        address = Address(\"123 Main St\", \"Springfield\")\n",
        "        student = Student(\"Alice\", address)\n",
        "        self.assertEqual(student.display_info(), \"Alice, 123 Main St, Springfield\")\n",
        "\n",
        "# Example of how to run the test if this were a script:\n",
        "if __name__ == '__main__':\n",
        "    unittest.main(argv=['first-arg-is-ignored'], exit=False) # Added argv and exit=False for Jupyter/interactive environments"
      ]
    },
    {
      "cell_type": "markdown",
      "source": [
        "**Polymorphism**"
      ],
      "metadata": {
        "id": "5sCir37juGQ8"
      }
    },
    {
      "cell_type": "code",
      "source": [
        "class Animal:\n",
        "    def speak(self):\n",
        "        # This method is meant to be overridden by subclasses.\n",
        "        # 'pass' is used here because there's no default generic animal sound.\n",
        "        pass\n",
        "\n",
        "class Dog(Animal):\n",
        "    def speak(self):\n",
        "        return \"Woof!\"\n",
        "\n",
        "class Cat(Animal):\n",
        "    def speak(self):\n",
        "        return \"Meow!\"\n",
        "\n",
        "# Create instances of Dog and Cat\n",
        "animals = [Dog(), Cat()]\n",
        "\n",
        "for animal in animals:\n",
        "    print(animal.speak())"
      ],
      "metadata": {
        "id": "oiXLOAiztyro",
        "outputId": "ff16ce6e-b37a-4cb0-f0c7-d046547c0eef",
        "colab": {
          "base_uri": "https://localhost:8080/"
        }
      },
      "execution_count": 1,
      "outputs": [
        {
          "output_type": "stream",
          "name": "stdout",
          "text": [
            "Woof!\n",
            "Meow!\n"
          ]
        }
      ]
    }
  ]
}