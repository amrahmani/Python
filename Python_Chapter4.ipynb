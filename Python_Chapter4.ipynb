{
  "nbformat": 4,
  "nbformat_minor": 0,
  "metadata": {
    "colab": {
      "provenance": [],
      "authorship_tag": "ABX9TyPWPcM1XBB56WlXTkbWFLK9",
      "include_colab_link": true
    },
    "kernelspec": {
      "name": "python3",
      "display_name": "Python 3"
    },
    "language_info": {
      "name": "python"
    }
  },
  "cells": [
    {
      "cell_type": "markdown",
      "metadata": {
        "id": "view-in-github",
        "colab_type": "text"
      },
      "source": [
        "<a href=\"https://colab.research.google.com/github/amrahmani/Python/blob/main/Python_Chapter4.ipynb\" target=\"_parent\"><img src=\"https://colab.research.google.com/assets/colab-badge.svg\" alt=\"Open In Colab\"/></a>"
      ]
    },
    {
      "cell_type": "code",
      "execution_count": 3,
      "metadata": {
        "colab": {
          "base_uri": "https://localhost:8080/"
        },
        "id": "Xj-tRIj8meoR",
        "outputId": "ae207754-0d7e-49c9-8373-0003bef45d62"
      },
      "outputs": [
        {
          "output_type": "stream",
          "name": "stderr",
          "text": [
            ".\n",
            "----------------------------------------------------------------------\n",
            "Ran 1 test in 0.001s\n",
            "\n",
            "OK\n"
          ]
        }
      ],
      "source": [
        "import unittest\n",
        "\n",
        "class Address:\n",
        "    def __init__(self, street, city):\n",
        "        self.street = street\n",
        "        self.city = city\n",
        "\n",
        "class Student:\n",
        "    def __init__(self, name, address): # 'address' here is expected to be an Address object\n",
        "        self.name = name\n",
        "        self.address = address\n",
        "\n",
        "    def display_info(self):\n",
        "        return f\"{self.name}, {self.address.street}, {self.address.city}\"\n",
        "\n",
        "class TestInheritance(unittest.TestCase):\n",
        "    def test_inheritance(self):\n",
        "        address = Address(\"123 Main St\", \"Springfield\")\n",
        "        student = Student(\"Alice\", address)\n",
        "        self.assertEqual(student.display_info(), \"Alice, 123 Main St, Springfield\")\n",
        "\n",
        "# Example of how to run the test if this were a script:\n",
        "if __name__ == '__main__':\n",
        "    unittest.main(argv=['first-arg-is-ignored'], exit=False) # Added argv and exit=False for Jupyter/interactive environments"
      ]
    }
  ]
}