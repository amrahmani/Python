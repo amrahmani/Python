{
  "nbformat": 4,
  "nbformat_minor": 0,
  "metadata": {
    "colab": {
      "provenance": [],
      "authorship_tag": "ABX9TyPXqpHfuI4BuFTTNZhRuhEQ",
      "include_colab_link": true
    },
    "kernelspec": {
      "name": "python3",
      "display_name": "Python 3"
    },
    "language_info": {
      "name": "python"
    }
  },
  "cells": [
    {
      "cell_type": "markdown",
      "metadata": {
        "id": "view-in-github",
        "colab_type": "text"
      },
      "source": [
        "<a href=\"https://colab.research.google.com/github/amrahmani/Python/blob/main/Lesson_12.ipynb\" target=\"_parent\"><img src=\"https://colab.research.google.com/assets/colab-badge.svg\" alt=\"Open In Colab\"/></a>"
      ]
    },
    {
      "cell_type": "code",
      "source": [
        "str = \"abcde\"\n",
        "str = str[:1] + 'a' + str[2:]\n",
        "print(str)"
      ],
      "metadata": {
        "colab": {
          "base_uri": "https://localhost:8080/"
        },
        "id": "UBFb3M4qlw0c",
        "outputId": "25c90eb8-3bdd-482a-a5fa-ffa527393910"
      },
      "execution_count": 4,
      "outputs": [
        {
          "output_type": "stream",
          "name": "stdout",
          "text": [
            "aacde\n"
          ]
        }
      ]
    },
    {
      "cell_type": "code",
      "source": [
        "str = \"abcde\"\n",
        "str = str[1] + 'a' + str[2:]\n",
        "print(str)"
      ],
      "metadata": {
        "colab": {
          "base_uri": "https://localhost:8080/"
        },
        "id": "Z5pCbBMCl0Kh",
        "outputId": "3898e2ff-618f-4a5f-e165-aa8f6aaee27f"
      },
      "execution_count": 5,
      "outputs": [
        {
          "output_type": "stream",
          "name": "stdout",
          "text": [
            "bacde\n"
          ]
        }
      ]
    },
    {
      "cell_type": "code",
      "execution_count": 3,
      "metadata": {
        "colab": {
          "base_uri": "https://localhost:8080/"
        },
        "id": "hqyxPVYWlM0S",
        "outputId": "4b0b26df-c939-438e-ec42-1bf52ae329df"
      },
      "outputs": [
        {
          "output_type": "stream",
          "name": "stdout",
          "text": [
            "aacde\n"
          ]
        }
      ],
      "source": [
        "str = \"abcde\"\n",
        "str = str[0] + 'a' + str[2:]\n",
        "print(str)"
      ]
    }
  ]
}