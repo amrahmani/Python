{
  "nbformat": 4,
  "nbformat_minor": 0,
  "metadata": {
    "colab": {
      "provenance": [],
      "authorship_tag": "ABX9TyNEVSd+QLs3Kw7ajrGHfHn1",
      "include_colab_link": true
    },
    "kernelspec": {
      "name": "python3",
      "display_name": "Python 3"
    },
    "language_info": {
      "name": "python"
    }
  },
  "cells": [
    {
      "cell_type": "markdown",
      "metadata": {
        "id": "view-in-github",
        "colab_type": "text"
      },
      "source": [
        "<a href=\"https://colab.research.google.com/github/amrahmani/Python/blob/main/Lesson_12.ipynb\" target=\"_parent\"><img src=\"https://colab.research.google.com/assets/colab-badge.svg\" alt=\"Open In Colab\"/></a>"
      ]
    },
    {
      "cell_type": "code",
      "source": [
        "str = \"abcde\"\n",
        "str = str[:1] + 'a' + str[2:]\n",
        "print(str)"
      ],
      "metadata": {
        "colab": {
          "base_uri": "https://localhost:8080/"
        },
        "id": "UBFb3M4qlw0c",
        "outputId": "25c90eb8-3bdd-482a-a5fa-ffa527393910"
      },
      "execution_count": 4,
      "outputs": [
        {
          "output_type": "stream",
          "name": "stdout",
          "text": [
            "aacde\n"
          ]
        }
      ]
    },
    {
      "cell_type": "code",
      "source": [
        "str = \"abcde\"\n",
        "str = str[1] + 'a' + str[2:]\n",
        "print(str)"
      ],
      "metadata": {
        "colab": {
          "base_uri": "https://localhost:8080/"
        },
        "id": "Z5pCbBMCl0Kh",
        "outputId": "3898e2ff-618f-4a5f-e165-aa8f6aaee27f"
      },
      "execution_count": 5,
      "outputs": [
        {
          "output_type": "stream",
          "name": "stdout",
          "text": [
            "bacde\n"
          ]
        }
      ]
    },
    {
      "cell_type": "code",
      "execution_count": 3,
      "metadata": {
        "colab": {
          "base_uri": "https://localhost:8080/"
        },
        "id": "hqyxPVYWlM0S",
        "outputId": "4b0b26df-c939-438e-ec42-1bf52ae329df"
      },
      "outputs": [
        {
          "output_type": "stream",
          "name": "stdout",
          "text": [
            "aacde\n"
          ]
        }
      ],
      "source": [
        "str = \"abcde\"\n",
        "str = str[0] + 'a' + str[2:]\n",
        "print(str)"
      ]
    },
    {
      "cell_type": "markdown",
      "source": [
        "Length"
      ],
      "metadata": {
        "id": "oDBrdezxmMoa"
      }
    },
    {
      "cell_type": "code",
      "source": [
        "if len(str) > 50:\n",
        "  print(len(str))\n",
        "  ch = str[2]\n",
        "else:\n",
        "  print(\"Index out of range\")"
      ],
      "metadata": {
        "colab": {
          "base_uri": "https://localhost:8080/"
        },
        "id": "IE9ghBGamYeN",
        "outputId": "fb4169cb-e38d-475d-e3f9-b5aa23fe849e"
      },
      "execution_count": 11,
      "outputs": [
        {
          "output_type": "stream",
          "name": "stdout",
          "text": [
            "5\n"
          ]
        }
      ]
    },
    {
      "cell_type": "code",
      "source": [
        "message = \"This is a sample string message.\"\n",
        "print(\"message = {}\".format(message))\n",
        "print(\"message.Length = {} \".format(len(message)))\n",
        "for i in range(len(message)):\n",
        "  print(\"message[{}] = {}\".format(i, message[i]))\n"
      ],
      "metadata": {
        "colab": {
          "base_uri": "https://localhost:8080/"
        },
        "id": "54N1ifsfnJ2n",
        "outputId": "4a3bccfd-5e03-4a5e-90f9-d0c2645bed80"
      },
      "execution_count": 14,
      "outputs": [
        {
          "output_type": "stream",
          "name": "stdout",
          "text": [
            "message = This is a sample string message.\n",
            "message.Length = 32 \n",
            "message[0] = T\n",
            "message[1] = h\n",
            "message[2] = i\n",
            "message[3] = s\n",
            "message[4] =  \n",
            "message[5] = i\n",
            "message[6] = s\n",
            "message[7] =  \n",
            "message[8] = a\n",
            "message[9] =  \n",
            "message[10] = s\n",
            "message[11] = a\n",
            "message[12] = m\n",
            "message[13] = p\n",
            "message[14] = l\n",
            "message[15] = e\n",
            "message[16] =  \n",
            "message[17] = s\n",
            "message[18] = t\n",
            "message[19] = r\n",
            "message[20] = i\n",
            "message[21] = n\n",
            "message[22] = g\n",
            "message[23] =  \n",
            "message[24] = m\n",
            "message[25] = e\n",
            "message[26] = s\n",
            "message[27] = s\n",
            "message[28] = a\n",
            "message[29] = g\n",
            "message[30] = e\n",
            "message[31] = .\n"
          ]
        }
      ]
    },
    {
      "cell_type": "code",
      "source": [
        "str= \"Donald\" + \"Trump\"\n",
        "print(str)\n",
        "print(len(str))"
      ],
      "metadata": {
        "colab": {
          "base_uri": "https://localhost:8080/"
        },
        "id": "i4eKI4NSqZR5",
        "outputId": "8c532b34-3743-470c-bd89-9b128e6003d3"
      },
      "execution_count": 18,
      "outputs": [
        {
          "output_type": "stream",
          "name": "stdout",
          "text": [
            "DonaldTrump\n",
            "11\n"
          ]
        }
      ]
    },
    {
      "cell_type": "code",
      "source": [
        "greet = \"Hello, \"\n",
        "name = \"world\"\n",
        "result =\"hi\"\n",
        "result = result.join([greet, name])\n",
        "print(result)"
      ],
      "metadata": {
        "colab": {
          "base_uri": "https://localhost:8080/"
        },
        "id": "dNn82dUbriE6",
        "outputId": "cdacbd9f-1398-45eb-a2d9-f26cb1287009"
      },
      "execution_count": 22,
      "outputs": [
        {
          "output_type": "stream",
          "name": "stdout",
          "text": [
            "Hello, hiworld\n"
          ]
        }
      ]
    },
    {
      "cell_type": "code",
      "source": [
        "s = \" abc \"\n",
        "print(\"*\" + s + \"*\")\n",
        "r = s.strip()\n",
        "print(\"*\" + r + \"*\")"
      ],
      "metadata": {
        "colab": {
          "base_uri": "https://localhost:8080/"
        },
        "id": "M8pYgKqFsvJ5",
        "outputId": "34c548d1-a86b-4f92-d6c4-124bebb1ac14"
      },
      "execution_count": 25,
      "outputs": [
        {
          "output_type": "stream",
          "name": "stdout",
          "text": [
            "* abc *\n",
            "*abc*\n"
          ]
        }
      ]
    }
  ]
}