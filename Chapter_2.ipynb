{
  "cells": [
    {
      "cell_type": "markdown",
      "metadata": {
        "id": "view-in-github",
        "colab_type": "text"
      },
      "source": [
        "<a href=\"https://colab.research.google.com/github/amrahmani/Python/blob/main/Chapter_2.ipynb\" target=\"_parent\"><img src=\"https://colab.research.google.com/assets/colab-badge.svg\" alt=\"Open In Colab\"/></a>"
      ]
    },
    {
      "cell_type": "markdown",
      "source": [
        "**Chapter 2: Data Structures**"
      ],
      "metadata": {
        "id": "2F7iB_gDaXdf"
      }
    },
    {
      "cell_type": "markdown",
      "source": [
        "**Accessing List Elements**"
      ],
      "metadata": {
        "id": "h-LUCtk5eZCM"
      }
    },
    {
      "cell_type": "code",
      "source": [
        "my_list = [10, 20, 30, 40, 50]\n",
        "\n",
        "# Print the first item (index 0)\n",
        "print(\"First item:\", my_list[0])\n",
        "\n",
        "# Print the last item (index 4)\n",
        "print(\"Last item:\", my_list[4])\n",
        "\n",
        "# Print the third item (index 2)\n",
        "print(\"Third item:\", my_list[2])\n",
        "\n",
        "# Test with an invalid index (e.g., index 5)\n",
        "try:\n",
        "    print(\"Invalid item:\", my_list[5]) #This will cause an error\n",
        "except IndexError:\n",
        "    print(\"Error: Index out of range.\")"
      ],
      "metadata": {
        "id": "neZRMFCaZ_xx",
        "outputId": "df82cbd2-4a27-4332-f888-c049531966df",
        "colab": {
          "base_uri": "https://localhost:8080/"
        }
      },
      "execution_count": null,
      "outputs": [
        {
          "output_type": "stream",
          "name": "stdout",
          "text": [
            "First item: 10\n",
            "Last item: 50\n",
            "Third item: 30\n",
            "Error: Index out of range.\n"
          ]
        }
      ]
    },
    {
      "cell_type": "markdown",
      "source": [
        "**Modifying Lists**"
      ],
      "metadata": {
        "id": "BecKpQbJeQG1"
      }
    },
    {
      "cell_type": "code",
      "source": [
        "# Initial list of colors\n",
        "colors = [\"red\", \"green\", \"blue\"]\n",
        "print(\"Initial list:\", colors)\n",
        "\n",
        "# Change one color (e.g., change \"green\" to \"yellow\")\n",
        "colors[1] = \"yellow\"\n",
        "print(\"List after changing 'green' to 'yellow':\", colors)\n",
        "\n",
        "# Add a fourth color (e.g., \"purple\")\n",
        "colors.append(\"purple\")\n",
        "print(\"List after adding 'purple':\", colors)\n",
        "\n",
        "# Remove one color (e.g., remove \"red\")\n",
        "colors.remove(\"red\")\n",
        "print(\"List after removing 'red':\", colors)"
      ],
      "metadata": {
        "colab": {
          "base_uri": "https://localhost:8080/"
        },
        "id": "_XtR8_o-d8X5",
        "outputId": "ead1589e-b061-48fd-f7e9-4bc6aa8f68b0"
      },
      "execution_count": 1,
      "outputs": [
        {
          "output_type": "stream",
          "name": "stdout",
          "text": [
            "Initial list: ['red', 'green', 'blue']\n",
            "List after changing 'green' to 'yellow': ['red', 'yellow', 'blue']\n",
            "List after adding 'purple': ['red', 'yellow', 'blue', 'purple']\n",
            "List after removing 'red': ['yellow', 'blue', 'purple']\n"
          ]
        }
      ]
    },
    {
      "cell_type": "markdown",
      "source": [
        "**List Length and Slicing**"
      ],
      "metadata": {
        "id": "28K7Dww_gVZ4"
      }
    },
    {
      "cell_type": "code",
      "source": [
        "fruits = [\"apple\", \"banana\", \"cherry\", \"date\", \"tangerin\", \"fig\"]\n",
        "\n",
        "# Print the length of the list\n",
        "print(\"Length of the list:\", len(fruits))\n",
        "\n",
        "# Slice out the middle two items\n",
        "middle_two = fruits[2:4]  # Index 2 (cherry) to index 4 (exclusive)\n",
        "print(\"Middle two fruits:\", middle_two)\n",
        "\n",
        "# Experiment with different slice ranges:\n",
        "# First three items\n",
        "first_three = fruits[0:3]\n",
        "print(\"First three fruits:\", first_three)\n",
        "\n",
        "# Last three items\n",
        "last_three = fruits[-3:] # From the third element from the end to the end\n",
        "print(\"Last three fruits:\", last_three)\n",
        "\n",
        "# Every other item\n",
        "every_other = fruits[::2] # From the start to the end, step by 2.\n",
        "print(\"Every other fruit:\", every_other)\n",
        "\n",
        "# The list reversed\n",
        "reversed_list = fruits[::-1]\n",
        "print(\"Reversed list:\", reversed_list)\n",
        "\n",
        "# Items from index 1 to 4 (exclusive)\n",
        "range_1_to_4 = fruits[1:4]\n",
        "print(\"Fruits from index 1 to 3:\", range_1_to_4)"
      ],
      "metadata": {
        "colab": {
          "base_uri": "https://localhost:8080/"
        },
        "id": "AkXCCYRAgW5O",
        "outputId": "3f74e984-85c9-4076-9e95-67dcec8ca9b0"
      },
      "execution_count": 2,
      "outputs": [
        {
          "output_type": "stream",
          "name": "stdout",
          "text": [
            "Length of the list: 6\n",
            "Middle two fruits: ['cherry', 'date']\n",
            "First three fruits: ['apple', 'banana', 'cherry']\n",
            "Last three fruits: ['date', 'elderberry', 'fig']\n",
            "Every other fruit: ['apple', 'cherry', 'elderberry']\n",
            "Reversed list: ['fig', 'elderberry', 'date', 'cherry', 'banana', 'apple']\n",
            "Fruits from index 1 to 3: ['banana', 'cherry', 'date']\n"
          ]
        }
      ]
    },
    {
      "cell_type": "markdown",
      "source": [
        "**Accessing Tuples**"
      ],
      "metadata": {
        "id": "OX6xIdvSh1d3"
      }
    },
    {
      "cell_type": "code",
      "source": [
        "# Create a tuple of 5 numbers\n",
        "my_tuple = (10, 20, 30, 40, 50)\n",
        "\n",
        "# Print the second item (index 1)\n",
        "print(\"Second item:\", my_tuple[1])\n",
        "\n",
        "# Print the last item (index -1)\n",
        "print(\"Last item:\", my_tuple[-1])\n",
        "\n",
        "# Slice the first three items (index 0, 1, 2)\n",
        "first_three = my_tuple[0:3]\n",
        "print(\"First three items:\", first_three)\n",
        "\n",
        "#List slicing comparison\n",
        "my_list = [10, 20, 30, 40, 50]\n",
        "\n",
        "print(\"List second item:\", my_list[1])\n",
        "print(\"List last item:\", my_list[-1])\n",
        "print(\"List first three items:\", my_list[0:3])\n",
        "\n",
        "#Demonstrating a key difference between tuples and lists.\n",
        "#Tuples are immutable. Lists are mutable.\n",
        "#my_tuple[0] = 5 #this will produce an error\n",
        "my_list[0] = 5\n",
        "print(\"Modified list:\", my_list)"
      ],
      "metadata": {
        "id": "-O_e6zgEh17x",
        "outputId": "586f5e68-90aa-490b-efd6-de3c239a4186",
        "colab": {
          "base_uri": "https://localhost:8080/"
        }
      },
      "execution_count": 3,
      "outputs": [
        {
          "output_type": "stream",
          "name": "stdout",
          "text": [
            "Second item: 20\n",
            "Last item: 50\n",
            "First three items: (10, 20, 30)\n",
            "List second item: 20\n",
            "List last item: 50\n",
            "List first three items: [10, 20, 30]\n",
            "Modified list: [5, 20, 30, 40, 50]\n"
          ]
        }
      ]
    },
    {
      "cell_type": "markdown",
      "source": [
        "**Tuples vs. Lists**"
      ],
      "metadata": {
        "id": "zjdF5gB7ic1w"
      }
    },
    {
      "cell_type": "code",
      "source": [
        "# Create a list with 4 items\n",
        "my_list = [\"apple\", \"banana\", \"cherry\", \"date\"]\n",
        "\n",
        "# Convert the list to a tuple\n",
        "my_tuple = tuple(my_list)\n",
        "\n",
        "# Print the list and the tuple\n",
        "print(\"List:\", my_list)\n",
        "print(\"Tuple:\", my_tuple)\n",
        "\n",
        "# Try modifying the list\n",
        "my_list[0] = \"apricot\"\n",
        "print(\"Modified List:\", my_list)\n",
        "\n",
        "# Try modifying the tuple (this will cause an error)\n",
        "my_tuple[0] = \"apricot\"\n",
        "\n",
        "#Print the tuple again to show it was not modified.\n",
        "print(\"Tuple after attempted modification:\", my_tuple)"
      ],
      "metadata": {
        "id": "2S_phpB5idt3",
        "outputId": "c384bba7-0e44-428e-8faa-bbfef65340be",
        "colab": {
          "base_uri": "https://localhost:8080/",
          "height": 272
        }
      },
      "execution_count": 5,
      "outputs": [
        {
          "output_type": "stream",
          "name": "stdout",
          "text": [
            "List: ['apple', 'banana', 'cherry', 'date']\n",
            "Tuple: ('apple', 'banana', 'cherry', 'date')\n",
            "Modified List: ['apricot', 'banana', 'cherry', 'date']\n"
          ]
        },
        {
          "output_type": "error",
          "ename": "TypeError",
          "evalue": "'tuple' object does not support item assignment",
          "traceback": [
            "\u001b[0;31m---------------------------------------------------------------------------\u001b[0m",
            "\u001b[0;31mTypeError\u001b[0m                                 Traceback (most recent call last)",
            "\u001b[0;32m<ipython-input-5-963edddc8153>\u001b[0m in \u001b[0;36m<cell line: 0>\u001b[0;34m()\u001b[0m\n\u001b[1;32m     14\u001b[0m \u001b[0;34m\u001b[0m\u001b[0m\n\u001b[1;32m     15\u001b[0m \u001b[0;31m# Try modifying the tuple (this will cause an error)\u001b[0m\u001b[0;34m\u001b[0m\u001b[0;34m\u001b[0m\u001b[0m\n\u001b[0;32m---> 16\u001b[0;31m \u001b[0mmy_tuple\u001b[0m\u001b[0;34m[\u001b[0m\u001b[0;36m0\u001b[0m\u001b[0;34m]\u001b[0m \u001b[0;34m=\u001b[0m \u001b[0;34m\"apricot\"\u001b[0m\u001b[0;34m\u001b[0m\u001b[0;34m\u001b[0m\u001b[0m\n\u001b[0m\u001b[1;32m     17\u001b[0m \u001b[0;34m\u001b[0m\u001b[0m\n\u001b[1;32m     18\u001b[0m \u001b[0;34m\u001b[0m\u001b[0m\n",
            "\u001b[0;31mTypeError\u001b[0m: 'tuple' object does not support item assignment"
          ]
        }
      ]
    }
  ],
  "metadata": {
    "colab": {
      "name": "Chapter_2",
      "provenance": [],
      "include_colab_link": true
    },
    "kernelspec": {
      "display_name": "Python 3",
      "name": "python3"
    }
  },
  "nbformat": 4,
  "nbformat_minor": 0
}