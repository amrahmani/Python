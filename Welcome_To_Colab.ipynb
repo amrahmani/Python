{
  "cells": [
    {
      "cell_type": "markdown",
      "metadata": {
        "id": "view-in-github",
        "colab_type": "text"
      },
      "source": [
        "<a href=\"https://colab.research.google.com/github/amrahmani/Python/blob/main/Welcome_To_Colab.ipynb\" target=\"_parent\"><img src=\"https://colab.research.google.com/assets/colab-badge.svg\" alt=\"Open In Colab\"/></a>"
      ]
    },
    {
      "cell_type": "markdown",
      "source": [
        "**Chapter 2: Data Structures**"
      ],
      "metadata": {
        "id": "2F7iB_gDaXdf"
      }
    },
    {
      "cell_type": "code",
      "source": [
        "my_list = [10, 20, 30, 40, 50]\n",
        "\n",
        "# Print the first item (index 0)\n",
        "print(\"First item:\", my_list[0])\n",
        "\n",
        "# Print the last item (index 4)\n",
        "print(\"Last item:\", my_list[4])\n",
        "\n",
        "# Print the third item (index 2)\n",
        "print(\"Third item:\", my_list[2])\n",
        "\n",
        "# Test with an invalid index (e.g., index 5)\n",
        "try:\n",
        "    print(\"Invalid item:\", my_list[5]) #This will cause an error\n",
        "except IndexError:\n",
        "    print(\"Error: Index out of range.\")"
      ],
      "metadata": {
        "id": "neZRMFCaZ_xx",
        "outputId": "df82cbd2-4a27-4332-f888-c049531966df",
        "colab": {
          "base_uri": "https://localhost:8080/"
        }
      },
      "execution_count": 1,
      "outputs": [
        {
          "output_type": "stream",
          "name": "stdout",
          "text": [
            "First item: 10\n",
            "Last item: 50\n",
            "Third item: 30\n",
            "Error: Index out of range.\n"
          ]
        }
      ]
    }
  ],
  "metadata": {
    "colab": {
      "name": "Welcome To Colab",
      "provenance": [],
      "include_colab_link": true
    },
    "kernelspec": {
      "display_name": "Python 3",
      "name": "python3"
    }
  },
  "nbformat": 4,
  "nbformat_minor": 0
}