{
  "cells": [
    {
      "cell_type": "markdown",
      "metadata": {
        "id": "view-in-github",
        "colab_type": "text"
      },
      "source": [
        "<a href=\"https://colab.research.google.com/github/amrahmani/Python/blob/main/Chapter_1.ipynb\" target=\"_parent\"><img src=\"https://colab.research.google.com/assets/colab-badge.svg\" alt=\"Open In Colab\"/></a>"
      ]
    },
    {
      "cell_type": "markdown",
      "source": [
        "**Chapter 1: Data Types**"
      ],
      "metadata": {
        "id": "2F7iB_gDaXdf"
      }
    },
    {
      "cell_type": "code",
      "source": [
        "# This is a single-line comment.\n",
        "\n",
        "\"\"\"\n",
        "This is a multi-line comment.\n",
        "It can span multiple lines String\n",
        "and is often used for docstrings.\n",
        "\"\"\"\n",
        "\n",
        "print(\"Hello, world!\")  # Print the first message\n",
        "print(\"Python is fun!\") # Print the second message"
      ],
      "metadata": {
        "id": "BxVztabpdSel",
        "outputId": "a5688a1b-5dd0-42b8-e364-3f090eb42ae1",
        "colab": {
          "base_uri": "https://localhost:8080/"
        }
      },
      "execution_count": 3,
      "outputs": [
        {
          "output_type": "stream",
          "name": "stdout",
          "text": [
            "Hello, world!\n",
            "Python is fun!\n"
          ]
        }
      ]
    },
    {
      "cell_type": "code",
      "source": [
        "num1 = float(input(\"Enter the first number: \"))\n",
        "num2 = float(input(\"Enter the second number: \"))\n",
        "sum_result = num1 + num2\n",
        "print(\"The sum is:\", sum_result)"
      ],
      "metadata": {
        "colab": {
          "base_uri": "https://localhost:8080/"
        },
        "id": "H8gh4OVuc3iQ",
        "outputId": "0f26985e-ce80-41ce-d285-466995ce0c11"
      },
      "execution_count": 2,
      "outputs": [
        {
          "output_type": "stream",
          "name": "stdout",
          "text": [
            "Enter the first number: 1\n",
            "Enter the second number: 2\n",
            "The sum is: 3.0\n"
          ]
        }
      ]
    },
    {
      "cell_type": "code",
      "source": [
        "# Get the meal cost from the user\n",
        "meal_cost = float(input(\"Enter the cost of the meal: $\"))\n",
        "\n",
        "# Calculate the tip (15%)\n",
        "tip_amount = meal_cost * 0.15\n",
        "\n",
        "# Calculate the total bill\n",
        "total_bill = meal_cost + tip_amount\n",
        "\n",
        "# Print the results\n",
        "print(\"Meal Cost: $\", meal_cost)\n",
        "print(\"Tip (15%): $\", tip_amount)\n",
        "print(\"Total Bill: $\", total_bill)"
      ],
      "metadata": {
        "colab": {
          "base_uri": "https://localhost:8080/"
        },
        "id": "bzxZevAzcUU3",
        "outputId": "29f44d13-7c1e-4619-ef85-d327a5fd47c4"
      },
      "execution_count": 1,
      "outputs": [
        {
          "output_type": "stream",
          "name": "stdout",
          "text": [
            "Enter the cost of the meal: $100\n",
            "Meal Cost: $ 100.0\n",
            "Tip (15%): $ 15.0\n",
            "Total Bill: $ 115.0\n"
          ]
        }
      ]
    }
  ],
  "metadata": {
    "colab": {
      "name": "Chapter_1",
      "provenance": [],
      "include_colab_link": true
    },
    "kernelspec": {
      "display_name": "Python 3",
      "name": "python3"
    }
  },
  "nbformat": 4,
  "nbformat_minor": 0
}