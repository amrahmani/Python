{
  "cells": [
    {
      "cell_type": "markdown",
      "metadata": {
        "id": "view-in-github",
        "colab_type": "text"
      },
      "source": [
        "<a href=\"https://colab.research.google.com/github/amrahmani/Python/blob/main/Chapter_1.ipynb\" target=\"_parent\"><img src=\"https://colab.research.google.com/assets/colab-badge.svg\" alt=\"Open In Colab\"/></a>"
      ]
    },
    {
      "cell_type": "markdown",
      "source": [
        "**Chapter 2: Data Structures**"
      ],
      "metadata": {
        "id": "2F7iB_gDaXdf"
      }
    },
    {
      "cell_type": "code",
      "source": [
        "# Get the meal cost from the user\n",
        "meal_cost = float(input(\"Enter the cost of the meal: $\"))\n",
        "\n",
        "# Calculate the tip (15%)\n",
        "tip_amount = meal_cost * 0.15\n",
        "\n",
        "# Calculate the total bill\n",
        "total_bill = meal_cost + tip_amount\n",
        "\n",
        "# Print the results\n",
        "print(\"Meal Cost: $\", meal_cost)\n",
        "print(\"Tip (15%): $\", tip_amount)\n",
        "print(\"Total Bill: $\", total_bill)\n",
        "\n",
        "# Example usage:\n",
        "# Enter the cost of the meal: $100\n",
        "# Meal Cost: $ 100.0\n",
        "# Tip (15%): $ 15.0\n",
        "# Total Bill: $ 115.0"
      ],
      "metadata": {
        "id": "bzxZevAzcUU3",
        "outputId": "29f44d13-7c1e-4619-ef85-d327a5fd47c4",
        "colab": {
          "base_uri": "https://localhost:8080/"
        }
      },
      "execution_count": 1,
      "outputs": [
        {
          "output_type": "stream",
          "name": "stdout",
          "text": [
            "Enter the cost of the meal: $100\n",
            "Meal Cost: $ 100.0\n",
            "Tip (15%): $ 15.0\n",
            "Total Bill: $ 115.0\n"
          ]
        }
      ]
    },
    {
      "cell_type": "code",
      "source": [
        "my_list = [10, 20, 30, 40, 50]\n",
        "\n",
        "# Print the first item (index 0)\n",
        "print(\"First item:\", my_list[0])\n",
        "\n",
        "# Print the last item (index 4)\n",
        "print(\"Last item:\", my_list[4])\n",
        "\n",
        "# Print the third item (index 2)\n",
        "print(\"Third item:\", my_list[2])\n",
        "\n",
        "# Test with an invalid index (e.g., index 5)\n",
        "try:\n",
        "    print(\"Invalid item:\", my_list[5]) #This will cause an error\n",
        "except IndexError:\n",
        "    print(\"Error: Index out of range.\")"
      ],
      "metadata": {
        "id": "neZRMFCaZ_xx",
        "outputId": "df82cbd2-4a27-4332-f888-c049531966df",
        "colab": {
          "base_uri": "https://localhost:8080/"
        }
      },
      "execution_count": null,
      "outputs": [
        {
          "output_type": "stream",
          "name": "stdout",
          "text": [
            "First item: 10\n",
            "Last item: 50\n",
            "Third item: 30\n",
            "Error: Index out of range.\n"
          ]
        }
      ]
    }
  ],
  "metadata": {
    "colab": {
      "name": "Chapter_1",
      "provenance": [],
      "include_colab_link": true
    },
    "kernelspec": {
      "display_name": "Python 3",
      "name": "python3"
    }
  },
  "nbformat": 4,
  "nbformat_minor": 0
}