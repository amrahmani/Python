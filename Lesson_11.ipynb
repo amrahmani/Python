{
  "nbformat": 4,
  "nbformat_minor": 0,
  "metadata": {
    "colab": {
      "provenance": [],
      "authorship_tag": "ABX9TyMgpGJQCyA1CBgvd6Ac/uNS",
      "include_colab_link": true
    },
    "kernelspec": {
      "name": "python3",
      "display_name": "Python 3"
    },
    "language_info": {
      "name": "python"
    }
  },
  "cells": [
    {
      "cell_type": "markdown",
      "metadata": {
        "id": "view-in-github",
        "colab_type": "text"
      },
      "source": [
        "<a href=\"https://colab.research.google.com/github/amrahmani/Python/blob/main/Lesson_11.ipynb\" target=\"_parent\"><img src=\"https://colab.research.google.com/assets/colab-badge.svg\" alt=\"Open In Colab\"/></a>"
      ]
    },
    {
      "cell_type": "code",
      "source": [
        "import math\n",
        "\n",
        "if __name__ == \"__main__\":\n",
        "    # Input coefficients\n",
        "    a = float(input(\"Enter the coefficient of x^2: \"))\n",
        "    b = float(input(\"Enter the coefficient of x: \"))\n",
        "    c = float(input(\"Enter the constant term: \"))\n",
        "\n",
        "    # Calculate the discriminant\n",
        "    D = math.pow(b, 2) - 4 * a * c\n",
        "\n",
        "    # Check the nature of the roots\n",
        "    if D < 0:\n",
        "        print(\"The roots are imaginary\")\n",
        "    else:\n",
        "        r1 = (-b + math.sqrt(D)) / (2 * a)\n",
        "        r2 = (-b - math.sqrt(D)) / (2 * a)\n",
        "        print(\"The roots are {} and {}\".format(r1, r2))\n"
      ],
      "metadata": {
        "colab": {
          "base_uri": "https://localhost:8080/"
        },
        "id": "6B4HvVK7MI7W",
        "outputId": "7f8c7de0-a82c-4bdd-ab08-5d0bf6719a73"
      },
      "execution_count": 1,
      "outputs": [
        {
          "output_type": "stream",
          "name": "stdout",
          "text": [
            "Enter the coefficient of x^2: 1\n",
            "Enter the coefficient of x: -4\n",
            "Enter the constant term: 3\n",
            "The roots are 3.0 and 1.0\n"
          ]
        }
      ]
    },
    {
      "cell_type": "code",
      "execution_count": 4,
      "metadata": {
        "colab": {
          "base_uri": "https://localhost:8080/"
        },
        "id": "Cq1pkATZwUWk",
        "outputId": "f05e5fbf-745e-4020-d6b5-ae5455e50a8f"
      },
      "outputs": [
        {
          "output_type": "stream",
          "name": "stdout",
          "text": [
            "4\n",
            "Wed\n"
          ]
        }
      ],
      "source": [
        "Day = int(input())\n",
        "match Day:\n",
        "    case 1:\n",
        "        print(\"Sun\")\n",
        "    case 2:\n",
        "        print(\"Mon\")\n",
        "    case 3:\n",
        "        print(\"Tue\")\n",
        "    case 4:\n",
        "        print(\"Wed\")\n",
        "    case 5:\n",
        "        print (\"Thu\")\n",
        "    case 6:\n",
        "        print(\"Fri\")\n",
        "    case 7:\n",
        "        print(\"Sat\")\n",
        "    case _:\n",
        "        print(\"Out of Range\")"
      ]
    },
    {
      "cell_type": "code",
      "source": [
        "import math\n",
        "\n",
        "# Input coefficients\n",
        "a = float(input(\"Enter the coefficient of x^2: \"))\n",
        "b = float(input(\"Enter the coefficient of x: \"))\n",
        "c = float(input(\"Enter the constant term: \"))\n",
        "\n",
        "# Calculate the discriminant\n",
        "D = math.pow(b, 2) - 4 * a * c\n",
        "\n",
        "# Check the nature of roots and calculate\n",
        "if D < 0:\n",
        "    print(\"The roots are imaginary\")\n",
        "else:\n",
        "    r1 = (-b + math.sqrt(D)) / (2 * a)\n",
        "    r2 = (-b - math.sqrt(D)) / (2 * a)\n",
        "    print(\"The roots are {} and {}\".format(r1, r2))"
      ],
      "metadata": {
        "colab": {
          "base_uri": "https://localhost:8080/"
        },
        "id": "3cDkAmO1xdLx",
        "outputId": "61aca8cd-6f1a-4e59-9b85-12f82209bcd3"
      },
      "execution_count": 5,
      "outputs": [
        {
          "output_type": "stream",
          "name": "stdout",
          "text": [
            "Enter the coefficient of x^2: 1\n",
            "Enter the coefficient of x: -4\n",
            "Enter the constant term: 4\n",
            "The roots are 2.0 and 2.0\n"
          ]
        }
      ]
    }
  ]
}