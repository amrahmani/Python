{
  "nbformat": 4,
  "nbformat_minor": 0,
  "metadata": {
    "colab": {
      "provenance": [],
      "authorship_tag": "ABX9TyNIc7S1j5EaB4D6bLhVRuPI",
      "include_colab_link": true
    },
    "kernelspec": {
      "name": "python3",
      "display_name": "Python 3"
    },
    "language_info": {
      "name": "python"
    }
  },
  "cells": [
    {
      "cell_type": "markdown",
      "metadata": {
        "id": "view-in-github",
        "colab_type": "text"
      },
      "source": [
        "<a href=\"https://colab.research.google.com/github/amrahmani/Python/blob/main/Lesson_11.ipynb\" target=\"_parent\"><img src=\"https://colab.research.google.com/assets/colab-badge.svg\" alt=\"Open In Colab\"/></a>"
      ]
    },
    {
      "cell_type": "code",
      "source": [
        "import math\n",
        "\n",
        "if __name__ == \"__main__\":\n",
        "    # Input coefficients\n",
        "    a = float(input(\"Enter the coefficient of x^2: \"))\n",
        "    b = float(input(\"Enter the coefficient of x: \"))\n",
        "    c = float(input(\"Enter the constant term: \"))\n",
        "\n",
        "    # Calculate the discriminant\n",
        "    D = math.pow(b, 2) - 4 * a * c\n",
        "\n",
        "    # Check the nature of the roots\n",
        "    if D < 0:\n",
        "        print(\"The roots are imaginary\")\n",
        "    else:\n",
        "        r1 = (-b + math.sqrt(D)) / (2 * a)\n",
        "        r2 = (-b - math.sqrt(D)) / (2 * a)\n",
        "        print(\"The roots are {} and {}\".format(r1, r2))\n"
      ],
      "metadata": {
        "colab": {
          "base_uri": "https://localhost:8080/"
        },
        "id": "6B4HvVK7MI7W",
        "outputId": "7f8c7de0-a82c-4bdd-ab08-5d0bf6719a73"
      },
      "execution_count": 1,
      "outputs": [
        {
          "output_type": "stream",
          "name": "stdout",
          "text": [
            "Enter the coefficient of x^2: 1\n",
            "Enter the coefficient of x: -4\n",
            "Enter the constant term: 3\n",
            "The roots are 3.0 and 1.0\n"
          ]
        }
      ]
    },
    {
      "cell_type": "code",
      "execution_count": 4,
      "metadata": {
        "colab": {
          "base_uri": "https://localhost:8080/"
        },
        "id": "Cq1pkATZwUWk",
        "outputId": "f05e5fbf-745e-4020-d6b5-ae5455e50a8f"
      },
      "outputs": [
        {
          "output_type": "stream",
          "name": "stdout",
          "text": [
            "4\n",
            "Wed\n"
          ]
        }
      ],
      "source": [
        "Day = int(input())\n",
        "match Day:\n",
        "    case 1:\n",
        "        print(\"Sun\")\n",
        "    case 2:\n",
        "        print(\"Mon\")\n",
        "    case 3:\n",
        "        print(\"Tue\")\n",
        "    case 4:\n",
        "        print(\"Wed\")\n",
        "    case 5:\n",
        "        print (\"Thu\")\n",
        "    case 6:\n",
        "        print(\"Fri\")\n",
        "    case 7:\n",
        "        print(\"Sat\")\n",
        "    case _:\n",
        "        print(\"Out of Range\")"
      ]
    },
    {
      "cell_type": "code",
      "source": [
        "import math\n",
        "\n",
        "# Input coefficients\n",
        "a = float(input(\"Enter the coefficient of x^2: \"))\n",
        "b = float(input(\"Enter the coefficient of x: \"))\n",
        "c = float(input(\"Enter the constant term: \"))\n",
        "\n",
        "# Calculate the discriminant\n",
        "D = math.pow(b, 2) - 4 * a * c\n",
        "\n",
        "# Check the nature of roots and calculate\n",
        "if D < 0:\n",
        "    print(\"The roots are imaginary\")\n",
        "else:\n",
        "    r1 = (-b + math.sqrt(D)) / (2 * a)\n",
        "    r2 = (-b - math.sqrt(D)) / (2 * a)\n",
        "    print(\"The roots are {} and {}\".format(r1, r2))"
      ],
      "metadata": {
        "colab": {
          "base_uri": "https://localhost:8080/",
          "height": 386
        },
        "id": "3cDkAmO1xdLx",
        "outputId": "06700faf-f4da-4d64-c6b9-fa00c91459fe"
      },
      "execution_count": 15,
      "outputs": [
        {
          "output_type": "error",
          "ename": "KeyboardInterrupt",
          "evalue": "Interrupted by user",
          "traceback": [
            "\u001b[0;31m---------------------------------------------------------------------------\u001b[0m",
            "\u001b[0;31mKeyboardInterrupt\u001b[0m                         Traceback (most recent call last)",
            "\u001b[0;32m<ipython-input-15-7cf6a36fb3f5>\u001b[0m in \u001b[0;36m<cell line: 4>\u001b[0;34m()\u001b[0m\n\u001b[1;32m      2\u001b[0m \u001b[0;34m\u001b[0m\u001b[0m\n\u001b[1;32m      3\u001b[0m \u001b[0;31m# Input coefficients\u001b[0m\u001b[0;34m\u001b[0m\u001b[0;34m\u001b[0m\u001b[0m\n\u001b[0;32m----> 4\u001b[0;31m \u001b[0ma\u001b[0m \u001b[0;34m=\u001b[0m \u001b[0mfloat\u001b[0m\u001b[0;34m(\u001b[0m\u001b[0minput\u001b[0m\u001b[0;34m(\u001b[0m\u001b[0;34m\"Enter the coefficient of x^2: \"\u001b[0m\u001b[0;34m)\u001b[0m\u001b[0;34m)\u001b[0m\u001b[0;34m\u001b[0m\u001b[0;34m\u001b[0m\u001b[0m\n\u001b[0m\u001b[1;32m      5\u001b[0m \u001b[0mb\u001b[0m \u001b[0;34m=\u001b[0m \u001b[0mfloat\u001b[0m\u001b[0;34m(\u001b[0m\u001b[0minput\u001b[0m\u001b[0;34m(\u001b[0m\u001b[0;34m\"Enter the coefficient of x: \"\u001b[0m\u001b[0;34m)\u001b[0m\u001b[0;34m)\u001b[0m\u001b[0;34m\u001b[0m\u001b[0;34m\u001b[0m\u001b[0m\n\u001b[1;32m      6\u001b[0m \u001b[0mc\u001b[0m \u001b[0;34m=\u001b[0m \u001b[0mfloat\u001b[0m\u001b[0;34m(\u001b[0m\u001b[0minput\u001b[0m\u001b[0;34m(\u001b[0m\u001b[0;34m\"Enter the constant term: \"\u001b[0m\u001b[0;34m)\u001b[0m\u001b[0;34m)\u001b[0m\u001b[0;34m\u001b[0m\u001b[0;34m\u001b[0m\u001b[0m\n",
            "\u001b[0;32m/usr/local/lib/python3.10/dist-packages/ipykernel/kernelbase.py\u001b[0m in \u001b[0;36mraw_input\u001b[0;34m(self, prompt)\u001b[0m\n\u001b[1;32m    849\u001b[0m                 \u001b[0;34m\"raw_input was called, but this frontend does not support input requests.\"\u001b[0m\u001b[0;34m\u001b[0m\u001b[0;34m\u001b[0m\u001b[0m\n\u001b[1;32m    850\u001b[0m             )\n\u001b[0;32m--> 851\u001b[0;31m         return self._input_request(str(prompt),\n\u001b[0m\u001b[1;32m    852\u001b[0m             \u001b[0mself\u001b[0m\u001b[0;34m.\u001b[0m\u001b[0m_parent_ident\u001b[0m\u001b[0;34m,\u001b[0m\u001b[0;34m\u001b[0m\u001b[0;34m\u001b[0m\u001b[0m\n\u001b[1;32m    853\u001b[0m             \u001b[0mself\u001b[0m\u001b[0;34m.\u001b[0m\u001b[0m_parent_header\u001b[0m\u001b[0;34m,\u001b[0m\u001b[0;34m\u001b[0m\u001b[0;34m\u001b[0m\u001b[0m\n",
            "\u001b[0;32m/usr/local/lib/python3.10/dist-packages/ipykernel/kernelbase.py\u001b[0m in \u001b[0;36m_input_request\u001b[0;34m(self, prompt, ident, parent, password)\u001b[0m\n\u001b[1;32m    893\u001b[0m             \u001b[0;32mexcept\u001b[0m \u001b[0mKeyboardInterrupt\u001b[0m\u001b[0;34m:\u001b[0m\u001b[0;34m\u001b[0m\u001b[0;34m\u001b[0m\u001b[0m\n\u001b[1;32m    894\u001b[0m                 \u001b[0;31m# re-raise KeyboardInterrupt, to truncate traceback\u001b[0m\u001b[0;34m\u001b[0m\u001b[0;34m\u001b[0m\u001b[0m\n\u001b[0;32m--> 895\u001b[0;31m                 \u001b[0;32mraise\u001b[0m \u001b[0mKeyboardInterrupt\u001b[0m\u001b[0;34m(\u001b[0m\u001b[0;34m\"Interrupted by user\"\u001b[0m\u001b[0;34m)\u001b[0m \u001b[0;32mfrom\u001b[0m \u001b[0;32mNone\u001b[0m\u001b[0;34m\u001b[0m\u001b[0;34m\u001b[0m\u001b[0m\n\u001b[0m\u001b[1;32m    896\u001b[0m             \u001b[0;32mexcept\u001b[0m \u001b[0mException\u001b[0m \u001b[0;32mas\u001b[0m \u001b[0me\u001b[0m\u001b[0;34m:\u001b[0m\u001b[0;34m\u001b[0m\u001b[0;34m\u001b[0m\u001b[0m\n\u001b[1;32m    897\u001b[0m                 \u001b[0mself\u001b[0m\u001b[0;34m.\u001b[0m\u001b[0mlog\u001b[0m\u001b[0;34m.\u001b[0m\u001b[0mwarning\u001b[0m\u001b[0;34m(\u001b[0m\u001b[0;34m\"Invalid Message:\"\u001b[0m\u001b[0;34m,\u001b[0m \u001b[0mexc_info\u001b[0m\u001b[0;34m=\u001b[0m\u001b[0;32mTrue\u001b[0m\u001b[0;34m)\u001b[0m\u001b[0;34m\u001b[0m\u001b[0;34m\u001b[0m\u001b[0m\n",
            "\u001b[0;31mKeyboardInterrupt\u001b[0m: Interrupted by user"
          ]
        }
      ]
    },
    {
      "cell_type": "code",
      "source": [
        "# Initialize the counter\n",
        "counter = 0;\n",
        "# Execute the loop body while the loop condition holds\n",
        "while (counter <= 9) :\n",
        "  # Print the counter value\n",
        "  print(\"Number : {}\".format(counter))\n",
        "  # Increment the counter\n",
        "  counter += 1"
      ],
      "metadata": {
        "colab": {
          "base_uri": "https://localhost:8080/"
        },
        "id": "mD7LH-n5S7gA",
        "outputId": "73010285-c9cc-4880-d09c-cee6a8836c6d"
      },
      "execution_count": 14,
      "outputs": [
        {
          "output_type": "stream",
          "name": "stdout",
          "text": [
            "Number : 0\n",
            "Number : 1\n",
            "Number : 2\n",
            "Number : 3\n",
            "Number : 4\n",
            "Number : 5\n",
            "Number : 6\n",
            "Number : 7\n",
            "Number : 8\n",
            "Number : 9\n"
          ]
        }
      ]
    },
    {
      "cell_type": "code",
      "source": [
        "n = int(input(\"n = \"))\n",
        "num = 1\n",
        "sum = 1\n",
        "print(\"The sum 1\")\n",
        "while num < n:\n",
        "    num += 1\n",
        "    sum += num\n",
        "    print(\" + {}\".format(num))\n",
        "print(\" = {}\".format(sum))\n"
      ],
      "metadata": {
        "colab": {
          "base_uri": "https://localhost:8080/"
        },
        "id": "4XkfGPMOSD92",
        "outputId": "cc3e6355-235f-4174-8472-4a88f035f3c9"
      },
      "execution_count": 4,
      "outputs": [
        {
          "output_type": "stream",
          "name": "stdout",
          "text": [
            "n = 4\n",
            "The sum 1\n",
            " + 2\n",
            " + 3\n",
            " + 4\n",
            " = 10\n"
          ]
        }
      ]
    },
    {
      "cell_type": "code",
      "source": [
        "import math\n",
        "import math\n",
        "num = int(input (\"Enter a positive number: \"))\n",
        "divider = 2\n",
        "maxDivider = int(math.sqrt(num))\n",
        "prime = True\n",
        "while (prime and (divider <= maxDivider)) :\n",
        "  if (num % divider == 0):\n",
        "    prime = False\n",
        "  divider += 1\n",
        "print(\"Prime? {}\".format(prime))\n"
      ],
      "metadata": {
        "colab": {
          "base_uri": "https://localhost:8080/"
        },
        "id": "yi9xWaVvUwZd",
        "outputId": "103fbbf5-f8ae-4f12-e9b9-8ebfc19528d1"
      },
      "execution_count": 23,
      "outputs": [
        {
          "output_type": "stream",
          "name": "stdout",
          "text": [
            "Enter a positive number: 18\n",
            "Prime? False\n"
          ]
        }
      ]
    },
    {
      "cell_type": "code",
      "source": [
        "def main():\n",
        "    a = \"None\"\n",
        "    # Loop while 'a' is not \"Quit\"\n",
        "    while a != \"Quit\":\n",
        "        print(\"Loop iteration.\")\n",
        "        a = input(\"Type a Name: \")\n",
        "        print(\"You wrote: {}\".format(a))\n",
        "    print(\"Loop ended.\")\n",
        "\n",
        "if __name__ == \"__main__\":\n",
        "    main()\n"
      ],
      "metadata": {
        "colab": {
          "base_uri": "https://localhost:8080/"
        },
        "id": "xjxObfI_492Y",
        "outputId": "54456262-5653-486b-e038-cbb30b90c0ab"
      },
      "execution_count": 1,
      "outputs": [
        {
          "output_type": "stream",
          "name": "stdout",
          "text": [
            "Loop iteration.\n",
            "Type a Name: Quit\n",
            "You wrote: Quit\n",
            "Loop ended.\n"
          ]
        }
      ]
    }
  ]
}