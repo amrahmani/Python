{
  "nbformat": 4,
  "nbformat_minor": 0,
  "metadata": {
    "colab": {
      "provenance": [],
      "authorship_tag": "ABX9TyOb82xkj12jq8cs6GBDS+gk",
      "include_colab_link": true
    },
    "kernelspec": {
      "name": "python3",
      "display_name": "Python 3"
    },
    "language_info": {
      "name": "python"
    }
  },
  "cells": [
    {
      "cell_type": "markdown",
      "metadata": {
        "id": "view-in-github",
        "colab_type": "text"
      },
      "source": [
        "<a href=\"https://colab.research.google.com/github/amrahmani/Python/blob/main/Python_Ch10.ipynb\" target=\"_parent\"><img src=\"https://colab.research.google.com/assets/colab-badge.svg\" alt=\"Open In Colab\"/></a>"
      ]
    },
    {
      "cell_type": "code",
      "execution_count": 51,
      "metadata": {
        "colab": {
          "base_uri": "https://localhost:8080/"
        },
        "id": "5en7Ugb_vk_3",
        "outputId": "08e9af1f-23bb-47c7-99e5-be96aba9713f"
      },
      "outputs": [
        {
          "output_type": "stream",
          "name": "stdout",
          "text": [
            "Starting training...\n",
            "Epoch [100/1000], Loss: 7.85\n",
            "Epoch [200/1000], Loss: 7.21\n",
            "Epoch [300/1000], Loss: 6.47\n",
            "Epoch [400/1000], Loss: 5.69\n",
            "Epoch [500/1000], Loss: 4.91\n",
            "Epoch [600/1000], Loss: 4.17\n",
            "Epoch [700/1000], Loss: 3.54\n",
            "Epoch [800/1000], Loss: 3.09\n",
            "Epoch [900/1000], Loss: 2.83\n",
            "Epoch [1000/1000], Loss: 2.72\n",
            "Training finished.\n",
            "\n",
            "Testing the model on new cases:\n",
            "Input: 2 x 3 = 6, Predicted: 5.81\n",
            "Input: 6 x 3 = 18, Predicted: 16.30\n"
          ]
        }
      ],
      "source": [
        "import torch\n",
        "import torch.nn as nn\n",
        "import torch.optim as optim\n",
        "\n",
        "# 1. Define the MLP architecture\n",
        "class ProductMLP(nn.Module):\n",
        "    def __init__(self):\n",
        "        super(ProductMLP, self).__init__()\n",
        "        self.hidden = nn.Linear(2, 4)  # 2 inputs, 4 hidden neurons\n",
        "        self.output = nn.Linear(4, 1)  # 4 hidden neurons, 1 output\n",
        "\n",
        "    def forward(self, x):\n",
        "        x = self.hidden(x)\n",
        "        x = torch.relu(x)  # Apply ReLU activation to hidden layer\n",
        "        x = self.output(x)\n",
        "        return x\n",
        "\n",
        "# 2. Generate training data\n",
        "# 20 input-output pairs (inputs ranging from 1 to 6)\n",
        "# You can change these lists to test different training data\n",
        "input_pairs_list = [\n",
        "    [1, 1], [1, 2], [1, 3], [1, 4], [1, 5], [1, 6],\n",
        "    [2, 1], [2, 2], [2, 3], [2, 4], [2, 5], [2, 6],\n",
        "    [3, 1], [3, 2], [3, 3], [3, 4], [3, 5], [3, 6],\n",
        "    [4, 1], [4, 2] # Only 20 pairs needed\n",
        "]\n",
        "\n",
        "output_products_list = [\n",
        "    1, 2, 3, 4, 5, 6,\n",
        "    2, 4, 6, 8, 10, 12,\n",
        "    3, 6, 9, 12, 15, 18,\n",
        "    4, 8 # Only 20 pairs needed\n",
        "]\n",
        "\n",
        "\n",
        "# Convert lists to PyTorch tensors\n",
        "X_train = torch.tensor(input_pairs_list, dtype=torch.float32)\n",
        "y_train = torch.tensor(output_products_list, dtype=torch.float32).view(-1, 1) # Reshape for compatibility with output layer\n",
        "\n",
        "# Instantiate the model\n",
        "model = ProductMLP()\n",
        "\n",
        "# 3. Define loss function and optimizer\n",
        "criterion = nn.MSELoss() # Mean Squared Error Loss\n",
        "optimizer = optim.Adam(model.parameters(), lr=0.01) # Adam optimizer with a learning rate of 0.01\n",
        "\n",
        "# 4. Train the model\n",
        "num_epochs = 1000 # Number of training iterations\n",
        "\n",
        "print(\"Starting training...\")\n",
        "for epoch in range(num_epochs):\n",
        "    # Forward pass\n",
        "    outputs = model(X_train)\n",
        "    loss = criterion(outputs, y_train)\n",
        "\n",
        "    # Backward and optimize\n",
        "    optimizer.zero_grad() # Clear gradients\n",
        "    loss.backward()       # Compute gradients\n",
        "    optimizer.step()      # Update weights\n",
        "\n",
        "    if (epoch + 1) % 100 == 0:\n",
        "        print(f'Epoch [{epoch+1}/{num_epochs}], Loss: {loss.item():.2f}')\n",
        "\n",
        "print(\"Training finished.\")\n",
        "\n",
        "# 5. Test the model on two new cases\n",
        "# You can change these lists to test different cases\n",
        "new_input_pairs = [\n",
        "    [2, 3], # Expected output: 6\n",
        "    [6, 3]  # Expected output: 18\n",
        "]\n",
        "\n",
        "X_test = torch.tensor(new_input_pairs, dtype=torch.float32)\n",
        "\n",
        "print(\"\\nTesting the model on new cases:\")\n",
        "model.eval() # Set the model to evaluation mode\n",
        "with torch.no_grad(): # Disable gradient calculation during testing\n",
        "    test_predictions = model(X_test)\n",
        "    for i in range(len(new_input_pairs)):\n",
        "        input_pair = new_input_pairs[i]\n",
        "        prediction = test_predictions[i]\n",
        "        expected_output = input_pair[0] * input_pair[1]\n",
        "        print(f\"Input: {input_pair[0]} x {input_pair[1]} = {expected_output}, Predicted: {prediction.item():.2f}\")"
      ]
    }
  ]
}