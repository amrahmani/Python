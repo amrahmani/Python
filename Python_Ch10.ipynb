{
  "nbformat": 4,
  "nbformat_minor": 0,
  "metadata": {
    "colab": {
      "provenance": [],
      "authorship_tag": "ABX9TyMLi5AJdpMwPSFEHkjaHUmS",
      "include_colab_link": true
    },
    "kernelspec": {
      "name": "python3",
      "display_name": "Python 3"
    },
    "language_info": {
      "name": "python"
    }
  },
  "cells": [
    {
      "cell_type": "markdown",
      "metadata": {
        "id": "view-in-github",
        "colab_type": "text"
      },
      "source": [
        "<a href=\"https://colab.research.google.com/github/amrahmani/Python/blob/main/Python_Ch10.ipynb\" target=\"_parent\"><img src=\"https://colab.research.google.com/assets/colab-badge.svg\" alt=\"Open In Colab\"/></a>"
      ]
    },
    {
      "cell_type": "markdown",
      "source": [
        "Construct a PyTorch Multi-Layer Perceptron (MLP) with 2 inputs, a hidden layer of 4 neurons, and a single output, then train it using backpropagation to predict the product of two integer inputs. Train the model on 20 input-output pairs (with inputs ranging from 1 to 6) and test it on 2 new cases."
      ],
      "metadata": {
        "id": "hFKFZZRDcWZ3"
      }
    },
    {
      "cell_type": "code",
      "execution_count": 88,
      "metadata": {
        "colab": {
          "base_uri": "https://localhost:8080/"
        },
        "id": "5en7Ugb_vk_3",
        "outputId": "4a563d03-53c7-4933-ee22-6e3cf7c6507c"
      },
      "outputs": [
        {
          "output_type": "stream",
          "name": "stdout",
          "text": [
            "Starting training...\n",
            "Epoch [100/1000], Loss: 7.59\n",
            "Epoch [200/1000], Loss: 6.47\n",
            "Epoch [300/1000], Loss: 5.28\n",
            "Epoch [400/1000], Loss: 4.13\n",
            "Epoch [500/1000], Loss: 3.26\n",
            "Epoch [600/1000], Loss: 2.78\n",
            "Epoch [700/1000], Loss: 2.48\n",
            "Epoch [800/1000], Loss: 2.39\n",
            "Epoch [900/1000], Loss: 2.36\n",
            "Epoch [1000/1000], Loss: 2.35\n",
            "Training finished.\n",
            "\n",
            "Testing the model on new cases:\n",
            "Input: 2 x 3 = 6, Predicted: 5.44\n",
            "Input: 6 x 3 = 18, Predicted: 17.66\n"
          ]
        }
      ],
      "source": [
        "import torch\n",
        "import torch.nn as nn\n",
        "import torch.optim as optim\n",
        "\n",
        "# 1. Define the MLP architecture\n",
        "class ProductMLP(nn.Module):\n",
        "    def __init__(self):\n",
        "        super(ProductMLP, self).__init__()\n",
        "        self.hidden = nn.Linear(2, 4)  # 2 inputs, 4 hidden neurons\n",
        "        self.output = nn.Linear(4, 1)  # 4 hidden neurons, 1 output\n",
        "\n",
        "    def forward(self, x):\n",
        "        x = self.hidden(x)\n",
        "        x = torch.relu(x)  # Apply ReLU activation to hidden layer\n",
        "        x = self.output(x)\n",
        "        return x\n",
        "\n",
        "# 2. Generate training data\n",
        "# 20 input-output pairs (inputs ranging from 1 to 6)\n",
        "# You can change these lists to test different training data\n",
        "input_pairs_list = [\n",
        "    [1, 1], [1, 2], [1, 3], [1, 4], [1, 5], [1, 6],\n",
        "    [2, 1], [2, 2], [2, 3], [2, 4], [2, 5], [2, 6],\n",
        "    [3, 1], [3, 2], [3, 3], [3, 4], [3, 5], [3, 6],\n",
        "    [4, 1], [4, 2] # Only 20 pairs needed\n",
        "]\n",
        "\n",
        "output_products_list = [\n",
        "    1, 2, 3, 4, 5, 6,\n",
        "    2, 4, 6, 8, 10, 12,\n",
        "    3, 6, 9, 12, 15, 18,\n",
        "    4, 8 # Only 20 pairs needed\n",
        "]\n",
        "\n",
        "\n",
        "# Convert lists to PyTorch tensors\n",
        "X_train = torch.tensor(input_pairs_list, dtype=torch.float32)\n",
        "y_train = torch.tensor(output_products_list, dtype=torch.float32).view(-1, 1) # Reshape for compatibility with output layer\n",
        "\n",
        "# Instantiate the model\n",
        "model = ProductMLP()\n",
        "\n",
        "# 3. Define loss function and optimizer\n",
        "criterion = nn.MSELoss() # Mean Squared Error Loss\n",
        "optimizer = optim.Adam(model.parameters(), lr=0.01) # Adam optimizer with a learning rate of 0.01\n",
        "\n",
        "# 4. Train the model\n",
        "num_epochs = 1000 # Number of training iterations\n",
        "\n",
        "print(\"Starting training...\")\n",
        "for epoch in range(num_epochs):\n",
        "    # Forward pass\n",
        "    outputs = model(X_train)\n",
        "    loss = criterion(outputs, y_train)\n",
        "\n",
        "    # Backward and optimize\n",
        "    optimizer.zero_grad() # Clear gradients\n",
        "    loss.backward()       # Compute gradients\n",
        "    optimizer.step()      # Update weights\n",
        "\n",
        "    if (epoch + 1) % 100 == 0:\n",
        "        print(f'Epoch [{epoch+1}/{num_epochs}], Loss: {loss.item():.2f}')\n",
        "\n",
        "print(\"Training finished.\")\n",
        "\n",
        "# 5. Test the model on two new cases\n",
        "# You can change these lists to test different cases\n",
        "new_input_pairs = [\n",
        "    [2, 3], # Expected output: 6\n",
        "    [6, 3]  # Expected output: 18\n",
        "]\n",
        "\n",
        "X_test = torch.tensor(new_input_pairs, dtype=torch.float32)\n",
        "\n",
        "print(\"\\nTesting the model on new cases:\")\n",
        "model.eval() # Set the model to evaluation mode\n",
        "with torch.no_grad(): # Disable gradient calculation during testing\n",
        "    test_predictions = model(X_test)\n",
        "    for i in range(len(new_input_pairs)):\n",
        "        input_pair = new_input_pairs[i]\n",
        "        prediction = test_predictions[i]\n",
        "        expected_output = input_pair[0] * input_pair[1]\n",
        "        print(f\"Input: {input_pair[0]} x {input_pair[1]} = {expected_output}, Predicted: {prediction.item():.2f}\")"
      ]
    },
    {
      "cell_type": "markdown",
      "source": [
        "Construct a PyTorch Multi-Layer Perceptron (MLP) with 2 inputs, a hidden layer of 4 neurons, and a single output, then train it using backpropagation to predict the subtraction of two integer inputs. Train the model on 20 input-output pairs (with inputs ranging from 1 to 6) and test it on 10 new cases."
      ],
      "metadata": {
        "id": "SfSoCMWFccKz"
      }
    },
    {
      "cell_type": "code",
      "source": [
        "import torch\n",
        "import torch.nn as nn\n",
        "\n",
        "# Define the multi-layer perceptron model\n",
        "class MLP(nn.Module):\n",
        "    def __init__(self):\n",
        "        super(MLP, self).__init__()\n",
        "        # Define the hidden layer with 3 neurons and input size 2\n",
        "        self.hidden = nn.Linear(2, 3)\n",
        "        # Define the output layer with 1 neuron\n",
        "        self.output = nn.Linear(3, 1)\n",
        "\n",
        "    def forward(self, x):\n",
        "        # Apply LeakyReLU activation function to the hidden layer output\n",
        "        # LeakyReLU helps prevent \"dying ReLUs\" by allowing a small gradient for negative inputs\n",
        "        x = nn.functional.leaky_relu(self.hidden(x)) # Using nn.functional for LeakyReLU\n",
        "        # The output layer directly outputs the result without an activation (for regression)\n",
        "        x = self.output(x)\n",
        "        return x\n",
        "\n",
        "# Corrected Dataset for Subtruction Prediction\n",
        "dataset_list = [\n",
        "    ((1, 1), 1 - 1), ((1, -2), 1 + 2), ((4, 3), 4 - 3), ((1, 4), 1 - 4),\n",
        "    ((4, 4), 4 - 4), ((-1, 4), -1 - 4), ((3, 1), 3 - 1), ((-2, 2), -2 - 2),\n",
        "    ((3, 3), 3 - 3), ((4, 4), 4 - 4), ((3, 4), 3 - 4), ((3, 2), 3 - 2),\n",
        "    ((5, 1), 5 - 1), ((2, 2), 2 - 2), ((5, -3), 5 + 3), ((2, 4), 2 - 4),\n",
        "    ((5, 5), 5 - 5), ((5, 4), 5 - 4), ((2, 1), 2 - 1), ((6, 2), 6 - 2),\n",
        "    ((-2, 3), -2 - 3), ((6, 4), 6 - 4), ((2, 2), 2 - 2), ((2, 6), 2 - 6)\n",
        "]\n",
        "\n",
        "\n",
        "# Convert data into torch tensors\n",
        "inputs = torch.tensor([data[0] for data in dataset_list], dtype=torch.float32)\n",
        "targets = torch.tensor([data[1] for data in dataset_list], dtype=torch.float32).view(-1, 1)\n",
        "\n",
        "\n",
        "# Model, Loss function, and Optimizer\n",
        "model = MLP()\n",
        "criterion = nn.MSELoss()\n",
        "# **Crucial Change:** Reduce learning rate\n",
        "optimizer = torch.optim.Adam(model.parameters(), lr=0.001) # Reduced learning rate to 0.001\n",
        "\n",
        "# Training loop\n",
        "epochs = 10000 # Increased epochs slightly for potential better convergence with lower LR\n",
        "print(\"Starting training...\")\n",
        "for epoch in range(epochs):\n",
        "    outputs = model(inputs)\n",
        "    loss = criterion(outputs, targets)\n",
        "\n",
        "    optimizer.zero_grad()\n",
        "    loss.backward()\n",
        "    optimizer.step()\n",
        "\n",
        "    if (epoch + 1) % 1000 == 0:\n",
        "        print(f'Epoch [{epoch+1}/{epochs}], Loss: {loss.item():.4f}')\n",
        "\n",
        "print(\"Training finished.\")\n",
        "\n",
        "# Testing\n",
        "test_data = [(1, -3), (1, 2), (1, 3), (3, 2), (-2, 1), (2, 2), (-3, 3), (3, 4), (5, 1), (2, 6)]\n",
        "\n",
        "print(\"\\nTesting the model on new cases:\")\n",
        "model.eval()\n",
        "with torch.no_grad():\n",
        "    for input_data in test_data:\n",
        "        input_tensor = torch.tensor(input_data, dtype=torch.float32)\n",
        "        prediction = model(input_tensor).item()\n",
        "        expected_output = input_data[0] * input_data[1]\n",
        "        print(f'Input: {input_data}, Expected Output: {expected_output}, Predicted Output: {prediction:.2f}')"
      ],
      "metadata": {
        "colab": {
          "base_uri": "https://localhost:8080/"
        },
        "id": "Pq-ZWcBITCuI",
        "outputId": "b630b58a-341d-400a-833f-4ddbad041407"
      },
      "execution_count": 100,
      "outputs": [
        {
          "output_type": "stream",
          "name": "stdout",
          "text": [
            "Starting training...\n",
            "Epoch [1000/10000], Loss: 0.1461\n",
            "Epoch [2000/10000], Loss: 0.0941\n",
            "Epoch [3000/10000], Loss: 0.0572\n",
            "Epoch [4000/10000], Loss: 0.0118\n",
            "Epoch [5000/10000], Loss: 0.0016\n",
            "Epoch [6000/10000], Loss: 0.0005\n",
            "Epoch [7000/10000], Loss: 0.0002\n",
            "Epoch [8000/10000], Loss: 0.0001\n",
            "Epoch [9000/10000], Loss: 0.0000\n",
            "Epoch [10000/10000], Loss: 0.0000\n",
            "Training finished.\n",
            "\n",
            "Testing the model on new cases:\n",
            "Input: (1, -3), Expected Output: -3, Predicted Output: 4.00\n",
            "Input: (1, 2), Expected Output: 2, Predicted Output: -1.01\n",
            "Input: (1, 3), Expected Output: 3, Predicted Output: -2.01\n",
            "Input: (3, 2), Expected Output: 6, Predicted Output: 1.00\n",
            "Input: (-2, 1), Expected Output: -2, Predicted Output: -3.00\n",
            "Input: (2, 2), Expected Output: 4, Predicted Output: 0.00\n",
            "Input: (-3, 3), Expected Output: -9, Predicted Output: -5.99\n",
            "Input: (3, 4), Expected Output: 12, Predicted Output: -1.00\n",
            "Input: (5, 1), Expected Output: 5, Predicted Output: 4.00\n",
            "Input: (2, 6), Expected Output: 12, Predicted Output: -4.00\n"
          ]
        }
      ]
    },
    {
      "cell_type": "code",
      "source": [
        "import torch\n",
        "import torch.nn as nn\n",
        "import torch.nn.functional as F\n",
        "\n",
        "# Define the MLP model\n",
        "class MLP(nn.Module):\n",
        "    def __init__(self):\n",
        "        super(MLP, self).__init__()\n",
        "        # Input layer: 784 neurons (28*28 flattened image)\n",
        "        # Hidden layer 1: 128 neurons\n",
        "        self.fc1 = nn.Linear(784, 128)\n",
        "        # Output layer: 10 neurons (for 10 classes of digits 0-9)\n",
        "        self.fc2 = nn.Linear(128, 10)\n",
        "\n",
        "    def forward(self, x):\n",
        "        # Flatten the input image from 28x28 to a 1D vector of 784\n",
        "        x = x.view(-1, 784)\n",
        "        # Apply the first fully connected layer with ReLU activation\n",
        "        x = F.relu(self.fc1(x))\n",
        "        # Apply the second fully connected layer (output layer)\n",
        "        # LogSoftmax is often used with NLLLoss for training,\n",
        "        # or Softmax with CrossEntropyLoss.\n",
        "        x = self.fc2(x)\n",
        "        return x # For training with CrossEntropyLoss, we usually return raw logits\n",
        "\n",
        "# Instantiate the model\n",
        "model = MLP()\n",
        "print(model)\n",
        "\n",
        "# Example of a forward pass with dummy data\n",
        "# Create a dummy batch of 64 images, each 1 channel, 28x28 pixels\n",
        "dummy_input = torch.randn(64, 1, 28, 28)\n",
        "output = model(dummy_input)\n",
        "print(f\"Output shape: {output.shape}\") # Should be torch.Size([64, 10])"
      ],
      "metadata": {
        "colab": {
          "base_uri": "https://localhost:8080/"
        },
        "id": "L5WbzV2fcRCj",
        "outputId": "fa5d6a48-c5dc-489d-e79f-f3ad645f2447"
      },
      "execution_count": 101,
      "outputs": [
        {
          "output_type": "stream",
          "name": "stdout",
          "text": [
            "MLP(\n",
            "  (fc1): Linear(in_features=784, out_features=128, bias=True)\n",
            "  (fc2): Linear(in_features=128, out_features=10, bias=True)\n",
            ")\n",
            "Output shape: torch.Size([64, 10])\n"
          ]
        }
      ]
    }
  ]
}