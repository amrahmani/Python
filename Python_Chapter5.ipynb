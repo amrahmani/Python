{
  "nbformat": 4,
  "nbformat_minor": 0,
  "metadata": {
    "colab": {
      "provenance": [],
      "authorship_tag": "ABX9TyP99SQqdP5FcQphOpuWRVQk",
      "include_colab_link": true
    },
    "kernelspec": {
      "name": "python3",
      "display_name": "Python 3"
    },
    "language_info": {
      "name": "python"
    }
  },
  "cells": [
    {
      "cell_type": "markdown",
      "metadata": {
        "id": "view-in-github",
        "colab_type": "text"
      },
      "source": [
        "<a href=\"https://colab.research.google.com/github/amrahmani/Python/blob/main/Python_Chapter5.ipynb\" target=\"_parent\"><img src=\"https://colab.research.google.com/assets/colab-badge.svg\" alt=\"Open In Colab\"/></a>"
      ]
    },
    {
      "cell_type": "code",
      "execution_count": 2,
      "metadata": {
        "colab": {
          "base_uri": "https://localhost:8080/"
        },
        "id": "P9Z0FQlCKZZ7",
        "outputId": "158eae52-cada-4c97-bac9-fce3c0576914"
      },
      "outputs": [
        {
          "output_type": "stream",
          "name": "stdout",
          "text": [
            "You are an adult.\n"
          ]
        }
      ],
      "source": [
        "age = 20\n",
        "if age < 18:\n",
        "  print(\"You are a minor.\")\n",
        "elif age == 18:\n",
        " print(\"You just became an adult!\")\n",
        "else:\n",
        " print(\"You are an adult.\")"
      ]
    },
    {
      "cell_type": "code",
      "source": [
        "age = 25\n",
        "if age > 18 and age < 30:\n",
        " print(\"You are in your twenties.\")"
      ],
      "metadata": {
        "colab": {
          "base_uri": "https://localhost:8080/"
        },
        "id": "hoABqPWnKufD",
        "outputId": "650c3103-b07d-45e5-d5c6-ec6ef4164b49"
      },
      "execution_count": 3,
      "outputs": [
        {
          "output_type": "stream",
          "name": "stdout",
          "text": [
            "You are in your twenties.\n"
          ]
        }
      ]
    },
    {
      "cell_type": "code",
      "source": [
        "for item in range(1,5,2):\n",
        "\t  print(\"Hi\", item)"
      ],
      "metadata": {
        "colab": {
          "base_uri": "https://localhost:8080/"
        },
        "id": "k7sq2KK5K605",
        "outputId": "e4e6abaf-a43f-457c-c79a-263a52f1a2ff"
      },
      "execution_count": 10,
      "outputs": [
        {
          "output_type": "stream",
          "name": "stdout",
          "text": [
            "Hi 1\n",
            "Hi 3\n"
          ]
        }
      ]
    },
    {
      "cell_type": "code",
      "source": [
        "names = [\"Alice\", \"Bob\", \"Charlie\"]\n",
        "for name in names:\n",
        " print(f\"Hello, {name}!\")"
      ],
      "metadata": {
        "colab": {
          "base_uri": "https://localhost:8080/"
        },
        "id": "LtcCF_OmK1Kn",
        "outputId": "d6f2b71d-f24a-45fc-cce5-c2aae7400646"
      },
      "execution_count": 4,
      "outputs": [
        {
          "output_type": "stream",
          "name": "stdout",
          "text": [
            "Hello, Alice!\n",
            "Hello, Bob!\n",
            "Hello, Charlie!\n"
          ]
        }
      ]
    },
    {
      "cell_type": "code",
      "source": [
        "count = 0\n",
        "while count < 5:\n",
        " print(f\"Count is {count}\")\n",
        " count += 1"
      ],
      "metadata": {
        "colab": {
          "base_uri": "https://localhost:8080/"
        },
        "id": "QYTpyOtsLmGY",
        "outputId": "a6464c22-28bf-406b-ad9f-95076a084bb1"
      },
      "execution_count": 11,
      "outputs": [
        {
          "output_type": "stream",
          "name": "stdout",
          "text": [
            "Count is 0\n",
            "Count is 1\n",
            "Count is 2\n",
            "Count is 3\n",
            "Count is 4\n"
          ]
        }
      ]
    },
    {
      "cell_type": "code",
      "source": [
        "for i in range(3): # i = 0, 1, 2 and 3\n",
        " for j in range(2): # j = 0 and 1\n",
        "  print(f\"i={i}, j={j}\")"
      ],
      "metadata": {
        "colab": {
          "base_uri": "https://localhost:8080/"
        },
        "id": "zs-LyM4mLqBq",
        "outputId": "df94f85c-7362-4bce-9d83-fb3e3b0b06b8"
      },
      "execution_count": 12,
      "outputs": [
        {
          "output_type": "stream",
          "name": "stdout",
          "text": [
            "i=0, j=0\n",
            "i=0, j=1\n",
            "i=1, j=0\n",
            "i=1, j=1\n",
            "i=2, j=0\n",
            "i=2, j=1\n"
          ]
        }
      ]
    },
    {
      "cell_type": "code",
      "source": [
        "for i in range(5): # i = 0, 1, 2, 3, 4, and 5\n",
        " if i == 3:\n",
        "  break\n",
        " print(i)"
      ],
      "metadata": {
        "colab": {
          "base_uri": "https://localhost:8080/"
        },
        "id": "vuUFKxT-LuEK",
        "outputId": "50c522bb-c3f7-4f7c-a9b6-0f0f07869d3b"
      },
      "execution_count": 15,
      "outputs": [
        {
          "output_type": "stream",
          "name": "stdout",
          "text": [
            "0\n",
            "1\n",
            "2\n"
          ]
        }
      ]
    },
    {
      "cell_type": "code",
      "source": [
        "for num in range(1, 11): # num = 1, 2, 3, …, 10\n",
        " if num % 3 == 0:\n",
        " # Skip the current iteration if the number is divisible by 3\n",
        "  continue\n",
        " print(f\"Number: {num}\")"
      ],
      "metadata": {
        "colab": {
          "base_uri": "https://localhost:8080/"
        },
        "id": "ntrfXx93L6Hs",
        "outputId": "2b04e396-5519-4bd6-d268-640ea04785b9"
      },
      "execution_count": 16,
      "outputs": [
        {
          "output_type": "stream",
          "name": "stdout",
          "text": [
            "Number: 1\n",
            "Number: 2\n",
            "Number: 4\n",
            "Number: 5\n",
            "Number: 7\n",
            "Number: 8\n",
            "Number: 10\n"
          ]
        }
      ]
    },
    {
      "cell_type": "code",
      "source": [
        "for num in range(1, 6):\n",
        " if num % 2 == 0:\n",
        " # Placeholder for even number logic\n",
        "  pass\n",
        " else:\n",
        "  print(f\"Odd Number: {num}\")"
      ],
      "metadata": {
        "colab": {
          "base_uri": "https://localhost:8080/"
        },
        "id": "nDgRPzFFMAOT",
        "outputId": "46a35a30-1d63-4592-9b6b-e7a790e814c6"
      },
      "execution_count": 17,
      "outputs": [
        {
          "output_type": "stream",
          "name": "stdout",
          "text": [
            "Odd Number: 1\n",
            "Odd Number: 3\n",
            "Odd Number: 5\n"
          ]
        }
      ]
    },
    {
      "cell_type": "code",
      "source": [
        " marks = int(input(\"Enter your marks: \"))\n",
        " if marks >= 90:\n",
        "  print(\"Grade: A\")\n",
        " elif marks >= 75:\n",
        "  print(\"Grade: B\")\n",
        " elif marks >= 50:\n",
        "  print(\"Grade: C\")\n",
        " else:\n",
        "  print(\"Grade: F\")"
      ],
      "metadata": {
        "colab": {
          "base_uri": "https://localhost:8080/"
        },
        "id": "d8fC3t_aMF9s",
        "outputId": "49bbcff2-2681-45dd-837c-248db110a582"
      },
      "execution_count": 18,
      "outputs": [
        {
          "output_type": "stream",
          "name": "stdout",
          "text": [
            "Enter your marks: 4\n",
            "Grade: F\n"
          ]
        }
      ]
    },
    {
      "cell_type": "code",
      "source": [
        "numbers = [1, 2, 3, 4, 5]\n",
        "total = 0\n",
        "for num in numbers:\n",
        " total += num # same as total = total + num\n",
        "print(f\"Total: {total}\")"
      ],
      "metadata": {
        "colab": {
          "base_uri": "https://localhost:8080/"
        },
        "id": "jEX_L6ZDMMMe",
        "outputId": "1213bf8b-9f2d-4992-b9e9-f46960cb99ab"
      },
      "execution_count": 19,
      "outputs": [
        {
          "output_type": "stream",
          "name": "stdout",
          "text": [
            "Total: 15\n"
          ]
        }
      ]
    },
    {
      "cell_type": "code",
      "source": [
        "num = int(input(\"Enter a number: \"))\n",
        "for i in range(1, 11):\n",
        " print(f\"{num} x {i} = {num * i}\")"
      ],
      "metadata": {
        "colab": {
          "base_uri": "https://localhost:8080/"
        },
        "id": "1jla3LhBMQ8y",
        "outputId": "b9b398a8-c72a-4102-ef19-454484a23829"
      },
      "execution_count": 20,
      "outputs": [
        {
          "output_type": "stream",
          "name": "stdout",
          "text": [
            "Enter a number: 5\n",
            "5 x 1 = 5\n",
            "5 x 2 = 10\n",
            "5 x 3 = 15\n",
            "5 x 4 = 20\n",
            "5 x 5 = 25\n",
            "5 x 6 = 30\n",
            "5 x 7 = 35\n",
            "5 x 8 = 40\n",
            "5 x 9 = 45\n",
            "5 x 10 = 50\n"
          ]
        }
      ]
    },
    {
      "cell_type": "code",
      "source": [
        "for num in range(2, 20):\n",
        " for i in range(2, num):\n",
        "    if num % i == 0:\n",
        "     break\n",
        " else:\n",
        "      print(num)"
      ],
      "metadata": {
        "colab": {
          "base_uri": "https://localhost:8080/"
        },
        "id": "FD75WE1wMVqB",
        "outputId": "77fd5aa5-d23a-49bb-820f-ebf6c2dc5ec6"
      },
      "execution_count": 22,
      "outputs": [
        {
          "output_type": "stream",
          "name": "stdout",
          "text": [
            "2\n",
            "3\n",
            "5\n",
            "7\n",
            "11\n",
            "13\n",
            "17\n",
            "19\n"
          ]
        }
      ]
    },
    {
      "cell_type": "code",
      "source": [
        " password = input(\"Enter your password: \")\n",
        " if len(password) >= 8 and any(char.isdigit() for char in password):\n",
        "  print(\"Password is valid\")\n",
        " else:\n",
        "  print(\"Password is invalid\")"
      ],
      "metadata": {
        "colab": {
          "base_uri": "https://localhost:8080/"
        },
        "id": "mbunzKEMNEsb",
        "outputId": "5eabab27-1100-4a8f-8442-457ecaf96668"
      },
      "execution_count": 26,
      "outputs": [
        {
          "output_type": "stream",
          "name": "stdout",
          "text": [
            "Enter your password: fegsdfgfg4336\n",
            "Password is valid\n"
          ]
        }
      ]
    }
  ]
}