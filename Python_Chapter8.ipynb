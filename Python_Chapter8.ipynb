{
  "nbformat": 4,
  "nbformat_minor": 0,
  "metadata": {
    "colab": {
      "provenance": [],
      "gpuType": "T4",
      "authorship_tag": "ABX9TyOhrNrQ/VZ5cvcZB49qVDw0",
      "include_colab_link": true
    },
    "kernelspec": {
      "name": "python3",
      "display_name": "Python 3"
    },
    "language_info": {
      "name": "python"
    },
    "accelerator": "GPU"
  },
  "cells": [
    {
      "cell_type": "markdown",
      "metadata": {
        "id": "view-in-github",
        "colab_type": "text"
      },
      "source": [
        "<a href=\"https://colab.research.google.com/github/amrahmani/Python/blob/main/Python_Chapter8.ipynb\" target=\"_parent\"><img src=\"https://colab.research.google.com/assets/colab-badge.svg\" alt=\"Open In Colab\"/></a>"
      ]
    },
    {
      "cell_type": "code",
      "execution_count": 1,
      "metadata": {
        "colab": {
          "base_uri": "https://localhost:8080/"
        },
        "id": "Q0Rn5Pmvk6FV",
        "outputId": "513c9865-bc5a-4497-be53-14a887160b45"
      },
      "outputs": [
        {
          "output_type": "stream",
          "name": "stdout",
          "text": [
            "Vehicle is starting.\n",
            "Car is driving.\n"
          ]
        }
      ],
      "source": [
        "class Vehicle:\n",
        "    def start(self):\n",
        "        print(\"Vehicle is starting.\")\n",
        "class Car(Vehicle): # Derived class representing a specific type of vehicle, a\n",
        "    def drive(self):\n",
        "        print(\"Car is driving.\")\n",
        "# Create an instance of the Car class\n",
        "car = Car()\n",
        "car.start()  # Inherited\n",
        "car.drive()  # Specific to Car"
      ]
    }
  ]
}