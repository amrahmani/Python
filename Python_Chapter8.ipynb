{
  "nbformat": 4,
  "nbformat_minor": 0,
  "metadata": {
    "colab": {
      "provenance": [],
      "gpuType": "T4",
      "authorship_tag": "ABX9TyP6grTsV2+h8ueltFPA9EKI",
      "include_colab_link": true
    },
    "kernelspec": {
      "name": "python3",
      "display_name": "Python 3"
    },
    "language_info": {
      "name": "python"
    },
    "accelerator": "GPU"
  },
  "cells": [
    {
      "cell_type": "markdown",
      "metadata": {
        "id": "view-in-github",
        "colab_type": "text"
      },
      "source": [
        "<a href=\"https://colab.research.google.com/github/amrahmani/Python/blob/main/Python_Chapter8.ipynb\" target=\"_parent\"><img src=\"https://colab.research.google.com/assets/colab-badge.svg\" alt=\"Open In Colab\"/></a>"
      ]
    },
    {
      "cell_type": "code",
      "execution_count": 1,
      "metadata": {
        "colab": {
          "base_uri": "https://localhost:8080/"
        },
        "id": "Q0Rn5Pmvk6FV",
        "outputId": "513c9865-bc5a-4497-be53-14a887160b45"
      },
      "outputs": [
        {
          "output_type": "stream",
          "name": "stdout",
          "text": [
            "Vehicle is starting.\n",
            "Car is driving.\n"
          ]
        }
      ],
      "source": [
        "class Vehicle:\n",
        "    def start(self):\n",
        "        print(\"Vehicle is starting.\")\n",
        "class Car(Vehicle): # Derived class representing a specific type of vehicle, a\n",
        "    def drive(self):\n",
        "        print(\"Car is driving.\")\n",
        "# Create an instance of the Car class\n",
        "car = Car()\n",
        "car.start()  # Inherited\n",
        "car.drive()  # Specific to Car"
      ]
    },
    {
      "cell_type": "code",
      "source": [
        "class Animal:\n",
        "    def breathe(self):\n",
        "        print(\"Animal breathes.\")\n",
        "class Mammal(Animal):\n",
        "    def walk(self):\n",
        "        print(\"Mammal walks.\")\n",
        "class Dog(Mammal):\n",
        "    def bark(self):\n",
        "        print(\"Dog barks.\")\n",
        "dog = Dog()\n",
        "dog.breathe()  # Grandparent method\n",
        "dog.walk()  # Parent method\n",
        "dog.bark()  # Child method"
      ],
      "metadata": {
        "colab": {
          "base_uri": "https://localhost:8080/"
        },
        "id": "v0dipOBCnnua",
        "outputId": "e30e8bd3-a3b2-443c-c306-7c2458152f41"
      },
      "execution_count": 3,
      "outputs": [
        {
          "output_type": "stream",
          "name": "stdout",
          "text": [
            "Animal breathes.\n",
            "Mammal walks.\n",
            "Dog barks.\n"
          ]
        }
      ]
    },
    {
      "cell_type": "code",
      "source": [
        "class Animal:\n",
        "    def sound(self):\n",
        "        print(\"Animal makes a sound.\")\n",
        "class Dog(Animal):\n",
        "    def sound(self):\n",
        "        print(\"Dog barks.\")  # Overrides the parent method\n",
        "# Demonstrating method overriding\n",
        "dog = Dog()\n",
        "dog.sound()  # Calls the overridden method"
      ],
      "metadata": {
        "colab": {
          "base_uri": "https://localhost:8080/"
        },
        "id": "BvKabGxVpULO",
        "outputId": "e0f98b9c-b0b6-4ae1-cffd-be0408c91ed6"
      },
      "execution_count": 5,
      "outputs": [
        {
          "output_type": "stream",
          "name": "stdout",
          "text": [
            "Dog barks.\n"
          ]
        }
      ]
    }
  ]
}