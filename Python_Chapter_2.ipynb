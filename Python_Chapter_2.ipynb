{
  "cells": [
    {
      "cell_type": "markdown",
      "metadata": {
        "id": "view-in-github",
        "colab_type": "text"
      },
      "source": [
        "<a href=\"https://colab.research.google.com/github/amrahmani/Python/blob/main/Python_Chapter_2.ipynb\" target=\"_parent\"><img src=\"https://colab.research.google.com/assets/colab-badge.svg\" alt=\"Open In Colab\"/></a>"
      ]
    },
    {
      "cell_type": "markdown",
      "source": [
        "**Chapter 2: Data Structures**"
      ],
      "metadata": {
        "id": "2F7iB_gDaXdf"
      }
    },
    {
      "cell_type": "markdown",
      "source": [
        "**Accessing List Elements**"
      ],
      "metadata": {
        "id": "h-LUCtk5eZCM"
      }
    },
    {
      "cell_type": "code",
      "source": [
        "my_list = [10, 20, 30, 40, 50]\n",
        "\n",
        "# Print the first item (index 0)\n",
        "print(\"First item:\", my_list[0])\n",
        "\n",
        "# Print the last item (index 4)\n",
        "print(\"Last item:\", my_list[4])\n",
        "\n",
        "# Print the third item (index 2)\n",
        "print(\"Third item:\", my_list[2])\n",
        "\n",
        "# Test with an invalid index (e.g., index 5)\n",
        "try:\n",
        "    print(\"Invalid item:\", my_list[5]) #This will cause an error\n",
        "except IndexError:\n",
        "    print(\"Error: Index out of range.\")"
      ],
      "metadata": {
        "id": "neZRMFCaZ_xx",
        "outputId": "df82cbd2-4a27-4332-f888-c049531966df",
        "colab": {
          "base_uri": "https://localhost:8080/"
        }
      },
      "execution_count": null,
      "outputs": [
        {
          "output_type": "stream",
          "name": "stdout",
          "text": [
            "First item: 10\n",
            "Last item: 50\n",
            "Third item: 30\n",
            "Error: Index out of range.\n"
          ]
        }
      ]
    },
    {
      "cell_type": "markdown",
      "source": [
        "**Modifying Lists**"
      ],
      "metadata": {
        "id": "BecKpQbJeQG1"
      }
    },
    {
      "cell_type": "code",
      "source": [
        "# Start with a list of 3 colors\n",
        "colors = [\"red\", \"green\", \"blue\"]\n",
        "print(\"Initial list:\", colors)\n",
        "\n",
        "# Change one color\n",
        "colors[1] = \"yellow\"\n",
        "print(\"List after changing one color:\", colors)\n",
        "\n",
        "# Add a fourth color\n",
        "colors.append(\"purple\")\n",
        "print(\"List after adding a fourth color:\", colors)\n",
        "\n",
        "# Print its length\n",
        "print(\"Length of the list:\", len(colors))\n",
        "\n",
        "# Remove one color\n",
        "colors.remove(\"blue\")\n",
        "print(\"List after removing one color:\", colors)\n",
        "colors.pop(1)\n",
        "print(\"List after removing one color:\", colors)"
      ],
      "metadata": {
        "colab": {
          "base_uri": "https://localhost:8080/"
        },
        "id": "_XtR8_o-d8X5",
        "outputId": "fae1a3a4-9900-4374-938a-9d06590140ef"
      },
      "execution_count": 3,
      "outputs": [
        {
          "output_type": "stream",
          "name": "stdout",
          "text": [
            "Initial list: ['red', 'green', 'blue']\n",
            "List after changing one color: ['red', 'yellow', 'blue']\n",
            "List after adding a fourth color: ['red', 'yellow', 'blue', 'purple']\n",
            "Length of the list: 4\n",
            "List after removing one color: ['red', 'yellow', 'purple']\n",
            "List after removing one color: ['red', 'purple']\n"
          ]
        }
      ]
    },
    {
      "cell_type": "code",
      "source": [
        "# Create a list\n",
        "my_list = [10, 20, 30, 40]\n",
        "\n",
        "# Slice the list to get [20, 30]\n",
        "sliced_list = my_list[1:3]  # Remember that the end index is exclusive\n",
        "\n",
        "# Print the sliced list\n",
        "print(\"Sliced list:\", sliced_list)  # Output: [20, 30]\n",
        "\n",
        "# Try slicing \"hello\" to get \"he\"\n",
        "my_string = \"hello\"\n",
        "sliced_string = my_string[0:2]  # Or more simply: my_string[:2]\n",
        "\n",
        "# Print the sliced string\n",
        "print(\"Sliced string:\", sliced_string)  # Output: he"
      ],
      "metadata": {
        "colab": {
          "base_uri": "https://localhost:8080/"
        },
        "id": "hkBVzcFvhXA6",
        "outputId": "51d4a0eb-6ad4-4cf2-a3c0-729f86c72b54"
      },
      "execution_count": 4,
      "outputs": [
        {
          "output_type": "stream",
          "name": "stdout",
          "text": [
            "Sliced list: [20, 30]\n",
            "Sliced string: he\n"
          ]
        }
      ]
    },
    {
      "cell_type": "code",
      "source": [
        "# Create a list\n",
        "vals = [10, 20, 30, 40, 50, 60]\n",
        "\n",
        "# Slice every third element: [10, 40]\n",
        "sliced_vals = vals[::3]\n",
        "\n",
        "# Print the sliced list\n",
        "print(\"Sliced list:\", sliced_vals)\n",
        "\n",
        "# Reverse the sliced list\n",
        "reversed_vals = sliced_vals[::-1]  # Create a new reversed list\n",
        "\n",
        "# Print the reversed list\n",
        "print(\"Reversed sliced list:\", reversed_vals)\n",
        "\n",
        "# Try reversing \"Python\"\n",
        "my_string = \"Python\"\n",
        "reversed_string = my_string[::-1]\n",
        "\n",
        "# Print the reversed string\n",
        "print(\"Reversed string:\", reversed_string)"
      ],
      "metadata": {
        "colab": {
          "base_uri": "https://localhost:8080/"
        },
        "id": "aJOJ1mT0hnlF",
        "outputId": "7dfd284e-b75c-48fc-ca68-316f8fa1478d"
      },
      "execution_count": 5,
      "outputs": [
        {
          "output_type": "stream",
          "name": "stdout",
          "text": [
            "Sliced list: [10, 40]\n",
            "Reversed sliced list: [40, 10]\n",
            "Reversed string: nohtyP\n"
          ]
        }
      ]
    },
    {
      "cell_type": "code",
      "source": [
        "# Start with the list [7, 6, 5]\n",
        "my_list = [7, 6, 5]\n",
        "\n",
        "# Set the element at index 1 to 9\n",
        "my_list[1] = 9\n",
        "\n",
        "# Append 8, 7, and 8 to the list\n",
        "my_list.append(8)\n",
        "my_list.append(7)\n",
        "my_list.append(8)\n",
        "\n",
        "# Remove the first occurrence of 5\n",
        "my_list.remove(5)\n",
        "\n",
        "# Print the count of 8 in the list\n",
        "count_of_8 = my_list.count(8)\n",
        "print(\"Count of 8:\", count_of_8)\n",
        "\n",
        "# Print the final list\n",
        "print(\"Final list:\", my_list)"
      ],
      "metadata": {
        "colab": {
          "base_uri": "https://localhost:8080/"
        },
        "id": "KdyWRk6mh965",
        "outputId": "86aa7e8a-fc36-46a8-b5b4-6e3e62b98569"
      },
      "execution_count": 6,
      "outputs": [
        {
          "output_type": "stream",
          "name": "stdout",
          "text": [
            "Count of 8: 2\n",
            "Final list: [7, 9, 8, 7, 8]\n"
          ]
        }
      ]
    },
    {
      "cell_type": "code",
      "source": [
        "# Create a list of 4 fruit names\n",
        "fruit_list = [\"orange\", \"apple\", \"banana\", \"grape\"]\n",
        "\n",
        "# Sort the list in ascending order\n",
        "ascending_list = sorted(fruit_list)\n",
        "\n",
        "# Sort the list in descending order\n",
        "descending_list = sorted(fruit_list, reverse=True)\n",
        "\n",
        "# Copy the sorted lists (creating new lists, not just references)\n",
        "ascending_list_copy = ascending_list[:]\n",
        "descending_list_copy = descending_list[:]\n",
        "\n",
        "# Print both lists\n",
        "print(\"Ascending list:\", ascending_list_copy)\n",
        "print(\"Descending list:\", descending_list_copy)\n",
        "\n",
        "# Verify that the ascending list is smaller (lexicographically)\n",
        "if ascending_list_copy < descending_list_copy:\n",
        "    print(\"Ascending list is lexicographically smaller than the descending list.\")\n",
        "else:\n",
        "    print(\"Ascending list is not lexicographically smaller than the descending list.\")"
      ],
      "metadata": {
        "colab": {
          "base_uri": "https://localhost:8080/"
        },
        "id": "2Jp-9JjxiMtn",
        "outputId": "97cdfe83-317c-4999-da94-0f7768383e6e"
      },
      "execution_count": 7,
      "outputs": [
        {
          "output_type": "stream",
          "name": "stdout",
          "text": [
            "Ascending list: ['apple', 'banana', 'grape', 'orange']\n",
            "Descending list: ['orange', 'grape', 'banana', 'apple']\n",
            "Ascending list is lexicographically smaller than the descending list.\n"
          ]
        }
      ]
    },
    {
      "cell_type": "markdown",
      "source": [
        "**List Length and Slicing**"
      ],
      "metadata": {
        "id": "28K7Dww_gVZ4"
      }
    },
    {
      "cell_type": "code",
      "source": [
        "fruits = [\"apple\", \"banana\", \"cherry\", \"date\", \"tangerin\", \"fig\"]\n",
        "\n",
        "# Print the length of the list\n",
        "print(\"Length of the list:\", len(fruits))\n",
        "\n",
        "# Slice out the middle two items\n",
        "middle_two = fruits[2:4]  # Index 2 (cherry) to index 4 (exclusive)\n",
        "print(\"Middle two fruits:\", middle_two)\n",
        "\n",
        "# Experiment with different slice ranges:\n",
        "# First three items\n",
        "first_three = fruits[0:3]\n",
        "print(\"First three fruits:\", first_three)\n",
        "\n",
        "# Last three items\n",
        "last_three = fruits[-3:] # From the third element from the end to the end\n",
        "print(\"Last three fruits:\", last_three)\n",
        "\n",
        "# Every other item\n",
        "every_other = fruits[::2] # From the start to the end, step by 2.\n",
        "print(\"Every other fruit:\", every_other)\n",
        "\n",
        "# The list reversed\n",
        "reversed_list = fruits[::-1]\n",
        "print(\"Reversed list:\", reversed_list)\n",
        "\n",
        "# Items from index 1 to 4 (exclusive)\n",
        "range_1_to_4 = fruits[1:4]\n",
        "print(\"Fruits from index 1 to 3:\", range_1_to_4)"
      ],
      "metadata": {
        "colab": {
          "base_uri": "https://localhost:8080/"
        },
        "id": "AkXCCYRAgW5O",
        "outputId": "3f74e984-85c9-4076-9e95-67dcec8ca9b0"
      },
      "execution_count": null,
      "outputs": [
        {
          "output_type": "stream",
          "name": "stdout",
          "text": [
            "Length of the list: 6\n",
            "Middle two fruits: ['cherry', 'date']\n",
            "First three fruits: ['apple', 'banana', 'cherry']\n",
            "Last three fruits: ['date', 'elderberry', 'fig']\n",
            "Every other fruit: ['apple', 'cherry', 'elderberry']\n",
            "Reversed list: ['fig', 'elderberry', 'date', 'cherry', 'banana', 'apple']\n",
            "Fruits from index 1 to 3: ['banana', 'cherry', 'date']\n"
          ]
        }
      ]
    },
    {
      "cell_type": "code",
      "source": [
        "# Create a tuple with 3 cities\n",
        "cities_tuple = (\"Sydney\", \"London\", \"Tokyo\")\n",
        "\n",
        "# Print the tuple\n",
        "print(\"Cities tuple:\", cities_tuple)\n",
        "\n",
        "# Try changing an item (this will raise an error)\n",
        "try:\n",
        "    cities_tuple[1] = \"Paris\"  # Attempting to change the second item\n",
        "except TypeError as e:\n",
        "    print(f\"Error: {e}\")\n",
        "\n",
        "# Print the tuple (it will remain unchanged)\n",
        "print(\"Cities tuple after attempting to change an item:\", cities_tuple)"
      ],
      "metadata": {
        "colab": {
          "base_uri": "https://localhost:8080/"
        },
        "id": "hxbSEwEuisZC",
        "outputId": "9d6c048d-b4d8-457f-925f-43a6797c6de7"
      },
      "execution_count": 9,
      "outputs": [
        {
          "output_type": "stream",
          "name": "stdout",
          "text": [
            "Cities tuple: ('Sydney', 'London', 'Tokyo')\n",
            "Error: 'tuple' object does not support item assignment\n",
            "Cities tuple after attempting to change an item: ('Sydney', 'London', 'Tokyo')\n"
          ]
        }
      ]
    },
    {
      "cell_type": "markdown",
      "source": [
        "**Accessing Tuples**"
      ],
      "metadata": {
        "id": "OX6xIdvSh1d3"
      }
    },
    {
      "cell_type": "code",
      "source": [
        "# Create a tuple of 5 numbers\n",
        "numbers_tuple = (10, 20, 30, 40, 50)\n",
        "\n",
        "# Print the second and last items\n",
        "print(\"Second item:\", numbers_tuple[1])\n",
        "print(\"Last item:\", numbers_tuple[-1])\n",
        "\n",
        "# Slice the first three items\n",
        "first_three_slice = numbers_tuple[:3]\n",
        "print(\"First three items (slice):\", first_three_slice)\n",
        "\n",
        "# Comparison to list slicing\n",
        "print(\"\\nComparison to list slicing:\")\n",
        "\n",
        "# Create a list for comparison\n",
        "numbers_list = [10, 20, 30, 40, 50]\n",
        "list_slice = numbers_list[:3]\n",
        "\n",
        "print(f\"Tuple slice: {numbers_tuple[:3]}\")\n",
        "print(f\"List slice: {numbers_list[:3]}\")"
      ],
      "metadata": {
        "colab": {
          "base_uri": "https://localhost:8080/"
        },
        "id": "-O_e6zgEh17x",
        "outputId": "2e84f425-09a4-4e6c-9b2b-eaaea4c094ff"
      },
      "execution_count": 11,
      "outputs": [
        {
          "output_type": "stream",
          "name": "stdout",
          "text": [
            "Second item: 20\n",
            "Last item: 50\n",
            "First three items (slice): (10, 20, 30)\n",
            "\n",
            "Comparison to list slicing:\n",
            "Tuple slice: (10, 20, 30)\n",
            "List slice: [10, 20, 30]\n"
          ]
        }
      ]
    },
    {
      "cell_type": "markdown",
      "source": [
        "**Tuples vs. Lists**"
      ],
      "metadata": {
        "id": "zjdF5gB7ic1w"
      }
    },
    {
      "cell_type": "code",
      "source": [
        "# Create a list with 4 items\n",
        "my_list = [\"apple\", \"banana\", \"cherry\", \"date\"]\n",
        "\n",
        "# Convert the list to a tuple\n",
        "my_tuple = tuple(my_list)\n",
        "\n",
        "# Print the list and the tuple\n",
        "print(\"List:\", my_list)\n",
        "print(\"Tuple:\", my_tuple)\n",
        "\n",
        "# Try modifying the list\n",
        "my_list[0] = \"apricot\"\n",
        "print(\"Modified List:\", my_list)\n",
        "\n",
        "# Try modifying the tuple (this will cause an error)\n",
        "my_tuple[0] = \"apricot\"\n",
        "\n",
        "#Print the tuple again to show it was not modified.\n",
        "print(\"Tuple after attempted modification:\", my_tuple)"
      ],
      "metadata": {
        "colab": {
          "base_uri": "https://localhost:8080/",
          "height": 271
        },
        "id": "2S_phpB5idt3",
        "outputId": "bb6d7749-344a-4e70-a63c-504cc9a328c5"
      },
      "execution_count": 12,
      "outputs": [
        {
          "output_type": "stream",
          "name": "stdout",
          "text": [
            "List: ['apple', 'banana', 'cherry', 'date']\n",
            "Tuple: ('apple', 'banana', 'cherry', 'date')\n",
            "Modified List: ['apricot', 'banana', 'cherry', 'date']\n"
          ]
        },
        {
          "output_type": "error",
          "ename": "TypeError",
          "evalue": "'tuple' object does not support item assignment",
          "traceback": [
            "\u001b[0;31m---------------------------------------------------------------------------\u001b[0m",
            "\u001b[0;31mTypeError\u001b[0m                                 Traceback (most recent call last)",
            "\u001b[0;32m<ipython-input-12-80e9502301be>\u001b[0m in \u001b[0;36m<cell line: 0>\u001b[0;34m()\u001b[0m\n\u001b[1;32m     14\u001b[0m \u001b[0;34m\u001b[0m\u001b[0m\n\u001b[1;32m     15\u001b[0m \u001b[0;31m# Try modifying the tuple (this will cause an error)\u001b[0m\u001b[0;34m\u001b[0m\u001b[0;34m\u001b[0m\u001b[0m\n\u001b[0;32m---> 16\u001b[0;31m \u001b[0mmy_tuple\u001b[0m\u001b[0;34m[\u001b[0m\u001b[0;36m0\u001b[0m\u001b[0;34m]\u001b[0m \u001b[0;34m=\u001b[0m \u001b[0;34m\"apricot\"\u001b[0m\u001b[0;34m\u001b[0m\u001b[0;34m\u001b[0m\u001b[0m\n\u001b[0m\u001b[1;32m     17\u001b[0m \u001b[0;34m\u001b[0m\u001b[0m\n\u001b[1;32m     18\u001b[0m \u001b[0;31m#Print the tuple again to show it was not modified.\u001b[0m\u001b[0;34m\u001b[0m\u001b[0;34m\u001b[0m\u001b[0m\n",
            "\u001b[0;31mTypeError\u001b[0m: 'tuple' object does not support item assignment"
          ]
        }
      ]
    },
    {
      "cell_type": "markdown",
      "source": [
        "**Accessing Dictionary Values**"
      ],
      "metadata": {
        "id": "TtrOsecbjf6y"
      }
    },
    {
      "cell_type": "code",
      "source": [
        "# Create a dictionary with 3 key-value pairs\n",
        "my_dict = {\n",
        "    \"name\": \"Alice\",\n",
        "    \"age\": 30,\n",
        "    \"city\": \"Sydney\"\n",
        "}\n",
        "\n",
        "# Print the dictionary\n",
        "print(my_dict)\n",
        "\n",
        "# Print one value by key\n",
        "print(\"\\nName:\", my_dict[\"name\"])\n",
        "\n",
        "# Print all keys\n",
        "print(\"\\nAll keys:\", my_dict.keys())\n",
        "\n",
        "# Try a nonexistent key with .get()\n",
        "print(\"\\nTrying a nonexistent key with .get():\")\n",
        "print(\"Value for 'occupation':\", my_dict.get(\"occupation\"))  # Key doesn't exist, returns None\n",
        "print(\"Value for 'occupation' with default:\", my_dict.get(\"occupation\", \"Unknown\"))  # Key doesn't exist, returns \"Unknown\""
      ],
      "metadata": {
        "colab": {
          "base_uri": "https://localhost:8080/"
        },
        "id": "JlcJ0BBckmhp",
        "outputId": "f0c90aa4-3e95-4e14-9e45-71d75b9899d5"
      },
      "execution_count": 16,
      "outputs": [
        {
          "output_type": "stream",
          "name": "stdout",
          "text": [
            "{'name': 'Alice', 'age': 30, 'city': 'Sydney'}\n",
            "\n",
            "Name: Alice\n",
            "\n",
            "All keys: dict_keys(['name', 'age', 'city'])\n",
            "\n",
            "Trying a nonexistent key with .get():\n",
            "Value for 'occupation': None\n",
            "Value for 'occupation' with default: Unknown\n"
          ]
        }
      ]
    },
    {
      "cell_type": "markdown",
      "source": [
        "**Modifying Dictionaries**"
      ],
      "metadata": {
        "id": "4aZw1M64kXUp"
      }
    },
    {
      "cell_type": "code",
      "source": [
        "my_dict = {\"name\": \"Ali\", \"age\": 30}\n",
        "print(\"Initial dictionary:\", my_dict)\n",
        "\n",
        "# Update a value\n",
        "my_dict[\"age\"] = 31\n",
        "print(\"After updating age:\", my_dict)\n",
        "\n",
        "# Add a new key-value pair\n",
        "my_dict[\"city\"] = \"Melbourne\"\n",
        "print(\"After adding city:\", my_dict)\n",
        "\n",
        "# Remove a key-value pair\n",
        "del my_dict[\"name\"]\n",
        "print(\"After removing name:\", my_dict)"
      ],
      "metadata": {
        "id": "QEt3HuGXkWw4",
        "outputId": "8c123774-f61f-49bc-8fd1-2f6c45a78bba",
        "colab": {
          "base_uri": "https://localhost:8080/"
        }
      },
      "execution_count": null,
      "outputs": [
        {
          "output_type": "stream",
          "name": "stdout",
          "text": [
            "Initial dictionary: {'name': 'Ali', 'age': 30}\n",
            "After updating age: {'name': 'Ali', 'age': 31}\n",
            "After adding city: {'name': 'Ali', 'age': 31, 'city': 'Melbourne'}\n",
            "After removing name: {'age': 31, 'city': 'Melbourne'}\n"
          ]
        }
      ]
    },
    {
      "cell_type": "code",
      "source": [
        "# Create a dictionary\n",
        "my_dict = {\n",
        "    \"name\": \"Alice\",\n",
        "    \"age\": 30,\n",
        "    \"city\": \"Sydney\"\n",
        "}\n",
        "\n",
        "# Print the dictionary's values\n",
        "print(\"Dictionary values:\", my_dict.values())\n",
        "\n",
        "# Print the dictionary's items (key-value pairs)\n",
        "print(\"Dictionary items:\", my_dict.items())\n",
        "\n",
        "# Clear the dictionary\n",
        "my_dict.clear()\n",
        "\n",
        "# Print the empty dictionary\n",
        "print(\"Cleared dictionary:\", my_dict)"
      ],
      "metadata": {
        "colab": {
          "base_uri": "https://localhost:8080/"
        },
        "id": "gL-y0hA3mC7S",
        "outputId": "ddb876c8-3ed6-4152-dabc-02133fbc4058"
      },
      "execution_count": 18,
      "outputs": [
        {
          "output_type": "stream",
          "name": "stdout",
          "text": [
            "Dictionary values: dict_values(['Alice', 30, 'Sydney'])\n",
            "Dictionary items: dict_items([('name', 'Alice'), ('age', 30), ('city', 'Sydney')])\n",
            "Cleared dictionary: {}\n"
          ]
        }
      ]
    },
    {
      "cell_type": "markdown",
      "source": [
        "**Shopping List**"
      ],
      "metadata": {
        "id": "9o0uIR5rmjW7"
      }
    },
    {
      "cell_type": "code",
      "source": [
        "# Create a list of shopping items\n",
        "items = [\"milk\", \"bread\"]\n",
        "# Create a dictionary of prices\n",
        "prices = {\"milk\": 2.5, \"bread\": 1.5}\n",
        "# Print the initial lists\n",
        "print(\"Initial shopping list:\", items)\n",
        "print(\"Initial prices:\", prices)\n",
        "# Add a third item and price\n",
        "items.append(\"eggs\")\n",
        "prices[\"eggs\"] = 3.0\n",
        "# Print the updated lists\n",
        "print(\"Updated shopping list:\", items)\n",
        "print(\"Updated prices:\", prices)\n",
        "# Access a specific entry using indexing and keys\n",
        "print(f\"Price of milk: {prices['milk']}\")\n",
        "print(f\"Second item in list: {items[1]}\")\n",
        "# Calculate the total cost\n",
        "total_cost = prices[\"milk\"] + prices[\"bread\"] + prices[\"eggs\"]\n",
        "print(f\"Total cost: ${total_cost:.2f}\")\n",
        "# Share the total with a neighbor (simulated)\n",
        "print(\"Sharing total cost with a neighbor...\")\n",
        "print(\"Neighbor says: \\\"The total cost is\",total_cost, \"\\\"\")"
      ],
      "metadata": {
        "colab": {
          "base_uri": "https://localhost:8080/"
        },
        "id": "Ire-Zbi5mmLm",
        "outputId": "c0b9330f-2d32-4fe2-c12b-ec3a15ea535c"
      },
      "execution_count": 22,
      "outputs": [
        {
          "output_type": "stream",
          "name": "stdout",
          "text": [
            "Initial shopping list: ['milk', 'bread']\n",
            "Initial prices: {'milk': 2.5, 'bread': 1.5}\n",
            "Updated shopping list: ['milk', 'bread', 'eggs']\n",
            "Updated prices: {'milk': 2.5, 'bread': 1.5, 'eggs': 3.0}\n",
            "Price of milk: 2.5\n",
            "Second item in list: bread\n",
            "Total cost: $7.00\n",
            "Sharing total cost with a neighbor...\n",
            "Neighbor says: \"The total cost is 7.0 \"\n"
          ]
        }
      ]
    },
    {
      "cell_type": "code",
      "source": [
        "# Create a list containing a tuple and a dictionary\n",
        "my_list = [\n",
        "    (\"apple\", 1, 2.0),       # Tuple\n",
        "    {\"name\": \"Bob\", \"age\": 30}  # Dictionary\n",
        "]\n",
        "\n",
        "# Print one value from the tuple (the string \"apple\")\n",
        "print(\"Value from tuple:\", my_list[0][0])\n",
        "\n",
        "# Print one value from the dictionary (the age, 30)\n",
        "print(\"Value from dictionary:\", my_list[1][\"age\"])"
      ],
      "metadata": {
        "id": "ZzZ5vwKGnSaS",
        "outputId": "20185bdf-d676-41ee-8ce5-dd5d18c24aea",
        "colab": {
          "base_uri": "https://localhost:8080/"
        }
      },
      "execution_count": 23,
      "outputs": [
        {
          "output_type": "stream",
          "name": "stdout",
          "text": [
            "Value from tuple: apple\n",
            "Value from dictionary: 30\n"
          ]
        }
      ]
    },
    {
      "cell_type": "code",
      "source": [
        "# Create a list containing a tuple and a dictionary\n",
        "my_list = [\n",
        "    (\"apple\", 1, 2.0),       # Tuple\n",
        "    {\"name\": \"Bob\", \"age\": 30}  # Dictionary\n",
        "]\n",
        "\n",
        "# Print one value from the tuple (the string \"apple\")\n",
        "print(\"Value from tuple:\", my_list[0][0])\n",
        "\n",
        "# Print one value from the dictionary (the age, 30)\n",
        "print(\"Value from dictionary:\", my_list[1][\"age\"])\n"
      ],
      "metadata": {
        "id": "LlL5ZkC3ndQJ",
        "outputId": "c617f6ac-f7a0-4074-b360-8df96f36e6bc",
        "colab": {
          "base_uri": "https://localhost:8080/"
        }
      },
      "execution_count": 24,
      "outputs": [
        {
          "output_type": "stream",
          "name": "stdout",
          "text": [
            "Value from tuple: apple\n",
            "Value from dictionary: 30\n"
          ]
        }
      ]
    },
    {
      "cell_type": "code",
      "source": [
        "# Create a list with the names of 2 students, each student is a dictionary with name, scores, and ID.\n",
        "students = [\n",
        "    {\"name\": \"Alice\", \"scores\": [80, 90, 75], \"id\": 101},\n",
        "    {\"name\": \"Bob\", \"scores\": [85, 78, 92], \"id\": 102}\n",
        "]\n",
        "# Print the original list\n",
        "print(\"Original student list:\")\n",
        "print(students)\n",
        "# Change a score for the first student (Alice)\n",
        "students[0][\"scores\"][1] = 95  # Change Alice's second score to 95\n",
        "# Add a key (e.g., \"grade\") for the second student (Bob)\n",
        "students[1][\"grade\"] = \"B\"\n",
        "# Add a new student (Charlie)\n",
        "new_student = {\"name\": \"Charlie\", \"scores\": [70, 80, 85], \"id\": 103}\n",
        "students.append(new_student)\n",
        "# Print the modified list\n",
        "print(\"\\nModified student list:\")\n",
        "print(students)\n",
        "# Verify changes (optional, but good practice)\n",
        "print(\"\\nVerifying changes:\")\n",
        "print(f\"Alice's updated scores: {students[0]['scores']}\")\n",
        "print(f\"Bob's grade: {students[1].get('grade', 'Grade not found')}\")  # Use .get() to avoid KeyError if the key doesn't exist.\n",
        "print(f\"Number of students: {len(students)}\")\n",
        "print(f\"Charlie's data: {students[2]}\")"
      ],
      "metadata": {
        "id": "94U4gTkPnp_S",
        "outputId": "ee3545f3-497e-47bb-9df7-1f27306e56cc",
        "colab": {
          "base_uri": "https://localhost:8080/"
        }
      },
      "execution_count": 25,
      "outputs": [
        {
          "output_type": "stream",
          "name": "stdout",
          "text": [
            "Original student list:\n",
            "[{'name': 'Alice', 'scores': [80, 90, 75], 'id': 101}, {'name': 'Bob', 'scores': [85, 78, 92], 'id': 102}]\n",
            "\n",
            "Modified student list:\n",
            "[{'name': 'Alice', 'scores': [80, 95, 75], 'id': 101}, {'name': 'Bob', 'scores': [85, 78, 92], 'id': 102, 'grade': 'B'}, {'name': 'Charlie', 'scores': [70, 80, 85], 'id': 103}]\n",
            "\n",
            "Verifying changes:\n",
            "Alice's updated scores: [80, 95, 75]\n",
            "Bob's grade: B\n",
            "Number of students: 3\n",
            "Charlie's data: {'name': 'Charlie', 'scores': [70, 80, 85], 'id': 103}\n"
          ]
        }
      ]
    },
    {
      "cell_type": "code",
      "source": [
        "# Create a set with 5 numbers, including repeats\n",
        "numbers_set = {1, 2, 2, 3, 4, 4, 5}\n",
        "\n",
        "# Print the set\n",
        "print(\"Set of numbers:\", numbers_set)  # Notice the duplicates are gone\n",
        "\n",
        "#Demonstrate the removal of duplicates.\n",
        "print(\"Check if the length of set is 5 (False):\",len(numbers_set)==5)"
      ],
      "metadata": {
        "id": "N2bxNkPToE4r",
        "outputId": "d77cc330-ac7b-41d4-9b9f-088728865164",
        "colab": {
          "base_uri": "https://localhost:8080/"
        }
      },
      "execution_count": 26,
      "outputs": [
        {
          "output_type": "stream",
          "name": "stdout",
          "text": [
            "Set of numbers: {1, 2, 3, 4, 5}\n",
            "Check if the length of set is 5 (False): True\n"
          ]
        }
      ]
    },
    {
      "cell_type": "markdown",
      "source": [
        "**Set**"
      ],
      "metadata": {
        "id": "2oZUGm04oObF"
      }
    },
    {
      "cell_type": "code",
      "source": [
        "# Create two sets\n",
        "set1 = {1, 2, 3}\n",
        "set2 = {3, 4, 5}\n",
        "\n",
        "# Print the initial sets\n",
        "print(\"Initial set1:\", set1)\n",
        "print(\"Initial set2:\", set2)\n",
        "\n",
        "# Add an item to set1\n",
        "set1.add(6)\n",
        "print(\"\\nSet1 after adding 6:\", set1)\n",
        "\n",
        "# Remove an item from set2\n",
        "set2.remove(3)\n",
        "print(\"Set2 after removing 3:\", set2)\n",
        "\n",
        "# Union the two sets\n",
        "union_set = set1.union(set2)\n",
        "print(\"\\nUnion of set1 and set2:\", union_set)"
      ],
      "metadata": {
        "id": "kD9prCygoQnF",
        "outputId": "5991e453-6641-4afc-c025-b063d0f57444",
        "colab": {
          "base_uri": "https://localhost:8080/"
        }
      },
      "execution_count": 27,
      "outputs": [
        {
          "output_type": "stream",
          "name": "stdout",
          "text": [
            "Initial set1: {1, 2, 3}\n",
            "Initial set2: {3, 4, 5}\n",
            "\n",
            "Set1 after adding 6: {1, 2, 3, 6}\n",
            "Set2 after removing 3: {4, 5}\n",
            "\n",
            "Union of set1 and set2: {1, 2, 3, 4, 5, 6}\n"
          ]
        }
      ]
    },
    {
      "cell_type": "code",
      "source": [
        "# Initialize a dictionary of contacts and a list of recent calls\n",
        "contacts = {\"Alex\": \"123-456\", \"Sam\": \"789-012\"}\n",
        "calls = [\"Alex\", \"Sam\"]\n",
        "\n",
        "# Print the initial data structures\n",
        "print(\"Initial contacts:\", contacts)\n",
        "print(\"Initial recent calls:\", calls)\n",
        "\n",
        "# Add a new contact and call\n",
        "contacts[\"Tina\"] = \"234-567\"\n",
        "calls.append(\"Tina\")\n",
        "\n",
        "# Print the updated data structures\n",
        "print(\"\\nUpdated contacts:\", contacts)\n",
        "print(\"Updated recent calls:\", calls)\n",
        "\n",
        "# Print a contact's number by name\n",
        "print(f\"\\nAlex's number: {contacts['Alex']}\")\n",
        "\n",
        "# Add a duplicate call\n",
        "calls.append(\"Alex\")\n",
        "print(\"\\nRecent calls after adding a duplicate:\", calls)"
      ],
      "metadata": {
        "id": "-0Dqyrxlo3d3",
        "outputId": "f4b0584a-d142-4965-f874-e47e994d1f25",
        "colab": {
          "base_uri": "https://localhost:8080/"
        }
      },
      "execution_count": 29,
      "outputs": [
        {
          "output_type": "stream",
          "name": "stdout",
          "text": [
            "Initial contacts: {'Alex': '123-456', 'Sam': '789-012'}\n",
            "Initial recent calls: ['Alex', 'Sam']\n",
            "\n",
            "Updated contacts: {'Alex': '123-456', 'Sam': '789-012', 'Tina': '234-567'}\n",
            "Updated recent calls: ['Alex', 'Sam', 'Tina']\n",
            "\n",
            "Alex's number: 123-456\n",
            "\n",
            "Recent calls after adding a duplicate: ['Alex', 'Sam', 'Tina', 'Alex']\n"
          ]
        }
      ]
    }
  ],
  "metadata": {
    "colab": {
      "name": "Chapter_2",
      "provenance": [],
      "include_colab_link": true
    },
    "kernelspec": {
      "display_name": "Python 3",
      "name": "python3"
    }
  },
  "nbformat": 4,
  "nbformat_minor": 0
}