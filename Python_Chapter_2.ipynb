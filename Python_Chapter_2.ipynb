{
  "cells": [
    {
      "cell_type": "markdown",
      "metadata": {
        "id": "view-in-github",
        "colab_type": "text"
      },
      "source": [
        "<a href=\"https://colab.research.google.com/github/amrahmani/Python/blob/main/Python_Chapter_2.ipynb\" target=\"_parent\"><img src=\"https://colab.research.google.com/assets/colab-badge.svg\" alt=\"Open In Colab\"/></a>"
      ]
    },
    {
      "cell_type": "markdown",
      "source": [
        "**Chapter 2: Data Structures**"
      ],
      "metadata": {
        "id": "2F7iB_gDaXdf"
      }
    },
    {
      "cell_type": "markdown",
      "source": [
        "**Accessing List Elements**"
      ],
      "metadata": {
        "id": "h-LUCtk5eZCM"
      }
    },
    {
      "cell_type": "code",
      "source": [
        "my_list = [10, 20, 30, 40, 50]\n",
        "\n",
        "# Print the first item (index 0)\n",
        "print(\"First item:\", my_list[0])\n",
        "\n",
        "# Print the last item (index 4)\n",
        "print(\"Last item:\", my_list[4])\n",
        "\n",
        "# Print the third item (index 2)\n",
        "print(\"Third item:\", my_list[2])\n",
        "\n",
        "# Test with an invalid index (e.g., index 5)\n",
        "try:\n",
        "    print(\"Invalid item:\", my_list[5]) #This will cause an error\n",
        "except IndexError:\n",
        "    print(\"Error: Index out of range.\")"
      ],
      "metadata": {
        "id": "neZRMFCaZ_xx",
        "outputId": "df82cbd2-4a27-4332-f888-c049531966df",
        "colab": {
          "base_uri": "https://localhost:8080/"
        }
      },
      "execution_count": null,
      "outputs": [
        {
          "output_type": "stream",
          "name": "stdout",
          "text": [
            "First item: 10\n",
            "Last item: 50\n",
            "Third item: 30\n",
            "Error: Index out of range.\n"
          ]
        }
      ]
    },
    {
      "cell_type": "markdown",
      "source": [
        "**Modifying Lists**"
      ],
      "metadata": {
        "id": "BecKpQbJeQG1"
      }
    },
    {
      "cell_type": "code",
      "source": [
        "# Start with a list of 3 colors\n",
        "colors = [\"red\", \"green\", \"blue\"]\n",
        "print(\"Initial list:\", colors)\n",
        "\n",
        "# Change one color\n",
        "colors[1] = \"yellow\"\n",
        "print(\"List after changing one color:\", colors)\n",
        "\n",
        "# Add a fourth color\n",
        "colors.append(\"purple\")\n",
        "print(\"List after adding a fourth color:\", colors)\n",
        "\n",
        "# Print its length\n",
        "print(\"Length of the list:\", len(colors))\n",
        "\n",
        "# Remove one color\n",
        "colors.remove(\"blue\")\n",
        "print(\"List after removing one color:\", colors)\n",
        "colors.pop(1)\n",
        "print(\"List after removing one color:\", colors)"
      ],
      "metadata": {
        "colab": {
          "base_uri": "https://localhost:8080/"
        },
        "id": "_XtR8_o-d8X5",
        "outputId": "fae1a3a4-9900-4374-938a-9d06590140ef"
      },
      "execution_count": 3,
      "outputs": [
        {
          "output_type": "stream",
          "name": "stdout",
          "text": [
            "Initial list: ['red', 'green', 'blue']\n",
            "List after changing one color: ['red', 'yellow', 'blue']\n",
            "List after adding a fourth color: ['red', 'yellow', 'blue', 'purple']\n",
            "Length of the list: 4\n",
            "List after removing one color: ['red', 'yellow', 'purple']\n",
            "List after removing one color: ['red', 'purple']\n"
          ]
        }
      ]
    },
    {
      "cell_type": "code",
      "source": [
        "# Create a list\n",
        "my_list = [10, 20, 30, 40]\n",
        "\n",
        "# Slice the list to get [20, 30]\n",
        "sliced_list = my_list[1:3]  # Remember that the end index is exclusive\n",
        "\n",
        "# Print the sliced list\n",
        "print(\"Sliced list:\", sliced_list)  # Output: [20, 30]\n",
        "\n",
        "# Try slicing \"hello\" to get \"he\"\n",
        "my_string = \"hello\"\n",
        "sliced_string = my_string[0:2]  # Or more simply: my_string[:2]\n",
        "\n",
        "# Print the sliced string\n",
        "print(\"Sliced string:\", sliced_string)  # Output: he"
      ],
      "metadata": {
        "colab": {
          "base_uri": "https://localhost:8080/"
        },
        "id": "hkBVzcFvhXA6",
        "outputId": "51d4a0eb-6ad4-4cf2-a3c0-729f86c72b54"
      },
      "execution_count": 4,
      "outputs": [
        {
          "output_type": "stream",
          "name": "stdout",
          "text": [
            "Sliced list: [20, 30]\n",
            "Sliced string: he\n"
          ]
        }
      ]
    },
    {
      "cell_type": "code",
      "source": [
        "# Create a list\n",
        "vals = [10, 20, 30, 40, 50, 60]\n",
        "\n",
        "# Slice every third element: [10, 40]\n",
        "sliced_vals = vals[::3]\n",
        "\n",
        "# Print the sliced list\n",
        "print(\"Sliced list:\", sliced_vals)\n",
        "\n",
        "# Reverse the sliced list\n",
        "reversed_vals = sliced_vals[::-1]  # Create a new reversed list\n",
        "\n",
        "# Print the reversed list\n",
        "print(\"Reversed sliced list:\", reversed_vals)\n",
        "\n",
        "# Try reversing \"Python\"\n",
        "my_string = \"Python\"\n",
        "reversed_string = my_string[::-1]\n",
        "\n",
        "# Print the reversed string\n",
        "print(\"Reversed string:\", reversed_string)"
      ],
      "metadata": {
        "colab": {
          "base_uri": "https://localhost:8080/"
        },
        "id": "aJOJ1mT0hnlF",
        "outputId": "7dfd284e-b75c-48fc-ca68-316f8fa1478d"
      },
      "execution_count": 5,
      "outputs": [
        {
          "output_type": "stream",
          "name": "stdout",
          "text": [
            "Sliced list: [10, 40]\n",
            "Reversed sliced list: [40, 10]\n",
            "Reversed string: nohtyP\n"
          ]
        }
      ]
    },
    {
      "cell_type": "code",
      "source": [
        "# Start with the list [7, 6, 5]\n",
        "my_list = [7, 6, 5]\n",
        "\n",
        "# Set the element at index 1 to 9\n",
        "my_list[1] = 9\n",
        "\n",
        "# Append 8, 7, and 8 to the list\n",
        "my_list.append(8)\n",
        "my_list.append(7)\n",
        "my_list.append(8)\n",
        "\n",
        "# Remove the first occurrence of 5\n",
        "my_list.remove(5)\n",
        "\n",
        "# Print the count of 8 in the list\n",
        "count_of_8 = my_list.count(8)\n",
        "print(\"Count of 8:\", count_of_8)\n",
        "\n",
        "# Print the final list\n",
        "print(\"Final list:\", my_list)"
      ],
      "metadata": {
        "colab": {
          "base_uri": "https://localhost:8080/"
        },
        "id": "KdyWRk6mh965",
        "outputId": "86aa7e8a-fc36-46a8-b5b4-6e3e62b98569"
      },
      "execution_count": 6,
      "outputs": [
        {
          "output_type": "stream",
          "name": "stdout",
          "text": [
            "Count of 8: 2\n",
            "Final list: [7, 9, 8, 7, 8]\n"
          ]
        }
      ]
    },
    {
      "cell_type": "code",
      "source": [
        "# Create a list of 4 fruit names\n",
        "fruit_list = [\"orange\", \"apple\", \"banana\", \"grape\"]\n",
        "\n",
        "# Sort the list in ascending order\n",
        "ascending_list = sorted(fruit_list)\n",
        "\n",
        "# Sort the list in descending order\n",
        "descending_list = sorted(fruit_list, reverse=True)\n",
        "\n",
        "# Copy the sorted lists (creating new lists, not just references)\n",
        "ascending_list_copy = ascending_list[:]\n",
        "descending_list_copy = descending_list[:]\n",
        "\n",
        "# Print both lists\n",
        "print(\"Ascending list:\", ascending_list_copy)\n",
        "print(\"Descending list:\", descending_list_copy)\n",
        "\n",
        "# Verify that the ascending list is smaller (lexicographically)\n",
        "if ascending_list_copy < descending_list_copy:\n",
        "    print(\"Ascending list is lexicographically smaller than the descending list.\")\n",
        "else:\n",
        "    print(\"Ascending list is not lexicographically smaller than the descending list.\")"
      ],
      "metadata": {
        "colab": {
          "base_uri": "https://localhost:8080/"
        },
        "id": "2Jp-9JjxiMtn",
        "outputId": "97cdfe83-317c-4999-da94-0f7768383e6e"
      },
      "execution_count": 7,
      "outputs": [
        {
          "output_type": "stream",
          "name": "stdout",
          "text": [
            "Ascending list: ['apple', 'banana', 'grape', 'orange']\n",
            "Descending list: ['orange', 'grape', 'banana', 'apple']\n",
            "Ascending list is lexicographically smaller than the descending list.\n"
          ]
        }
      ]
    },
    {
      "cell_type": "markdown",
      "source": [
        "**List Length and Slicing**"
      ],
      "metadata": {
        "id": "28K7Dww_gVZ4"
      }
    },
    {
      "cell_type": "code",
      "source": [
        "fruits = [\"apple\", \"banana\", \"cherry\", \"date\", \"tangerin\", \"fig\"]\n",
        "\n",
        "# Print the length of the list\n",
        "print(\"Length of the list:\", len(fruits))\n",
        "\n",
        "# Slice out the middle two items\n",
        "middle_two = fruits[2:4]  # Index 2 (cherry) to index 4 (exclusive)\n",
        "print(\"Middle two fruits:\", middle_two)\n",
        "\n",
        "# Experiment with different slice ranges:\n",
        "# First three items\n",
        "first_three = fruits[0:3]\n",
        "print(\"First three fruits:\", first_three)\n",
        "\n",
        "# Last three items\n",
        "last_three = fruits[-3:] # From the third element from the end to the end\n",
        "print(\"Last three fruits:\", last_three)\n",
        "\n",
        "# Every other item\n",
        "every_other = fruits[::2] # From the start to the end, step by 2.\n",
        "print(\"Every other fruit:\", every_other)\n",
        "\n",
        "# The list reversed\n",
        "reversed_list = fruits[::-1]\n",
        "print(\"Reversed list:\", reversed_list)\n",
        "\n",
        "# Items from index 1 to 4 (exclusive)\n",
        "range_1_to_4 = fruits[1:4]\n",
        "print(\"Fruits from index 1 to 3:\", range_1_to_4)"
      ],
      "metadata": {
        "colab": {
          "base_uri": "https://localhost:8080/"
        },
        "id": "AkXCCYRAgW5O",
        "outputId": "3f74e984-85c9-4076-9e95-67dcec8ca9b0"
      },
      "execution_count": null,
      "outputs": [
        {
          "output_type": "stream",
          "name": "stdout",
          "text": [
            "Length of the list: 6\n",
            "Middle two fruits: ['cherry', 'date']\n",
            "First three fruits: ['apple', 'banana', 'cherry']\n",
            "Last three fruits: ['date', 'elderberry', 'fig']\n",
            "Every other fruit: ['apple', 'cherry', 'elderberry']\n",
            "Reversed list: ['fig', 'elderberry', 'date', 'cherry', 'banana', 'apple']\n",
            "Fruits from index 1 to 3: ['banana', 'cherry', 'date']\n"
          ]
        }
      ]
    },
    {
      "cell_type": "code",
      "source": [
        "# Create a tuple with 3 cities\n",
        "cities_tuple = (\"Sydney\", \"London\", \"Tokyo\")\n",
        "\n",
        "# Print the tuple\n",
        "print(\"Cities tuple:\", cities_tuple)\n",
        "\n",
        "# Try changing an item (this will raise an error)\n",
        "try:\n",
        "    cities_tuple[1] = \"Paris\"  # Attempting to change the second item\n",
        "except TypeError as e:\n",
        "    print(f\"Error: {e}\")\n",
        "\n",
        "# Print the tuple (it will remain unchanged)\n",
        "print(\"Cities tuple after attempting to change an item:\", cities_tuple)"
      ],
      "metadata": {
        "colab": {
          "base_uri": "https://localhost:8080/"
        },
        "id": "hxbSEwEuisZC",
        "outputId": "9d6c048d-b4d8-457f-925f-43a6797c6de7"
      },
      "execution_count": 9,
      "outputs": [
        {
          "output_type": "stream",
          "name": "stdout",
          "text": [
            "Cities tuple: ('Sydney', 'London', 'Tokyo')\n",
            "Error: 'tuple' object does not support item assignment\n",
            "Cities tuple after attempting to change an item: ('Sydney', 'London', 'Tokyo')\n"
          ]
        }
      ]
    },
    {
      "cell_type": "markdown",
      "source": [
        "**Accessing Tuples**"
      ],
      "metadata": {
        "id": "OX6xIdvSh1d3"
      }
    },
    {
      "cell_type": "code",
      "source": [
        "# Create a tuple of 5 numbers\n",
        "numbers_tuple = (10, 20, 30, 40, 50)\n",
        "\n",
        "# Print the second and last items\n",
        "print(\"Second item:\", numbers_tuple[1])\n",
        "print(\"Last item:\", numbers_tuple[-1])\n",
        "\n",
        "# Slice the first three items\n",
        "first_three_slice = numbers_tuple[:3]\n",
        "print(\"First three items (slice):\", first_three_slice)\n",
        "\n",
        "# Comparison to list slicing\n",
        "print(\"\\nComparison to list slicing:\")\n",
        "\n",
        "# Create a list for comparison\n",
        "numbers_list = [10, 20, 30, 40, 50]\n",
        "list_slice = numbers_list[:3]\n",
        "\n",
        "print(f\"Tuple slice: {numbers_tuple[:3]}\")\n",
        "print(f\"List slice: {numbers_list[:3]}\")"
      ],
      "metadata": {
        "colab": {
          "base_uri": "https://localhost:8080/"
        },
        "id": "-O_e6zgEh17x",
        "outputId": "2e84f425-09a4-4e6c-9b2b-eaaea4c094ff"
      },
      "execution_count": 11,
      "outputs": [
        {
          "output_type": "stream",
          "name": "stdout",
          "text": [
            "Second item: 20\n",
            "Last item: 50\n",
            "First three items (slice): (10, 20, 30)\n",
            "\n",
            "Comparison to list slicing:\n",
            "Tuple slice: (10, 20, 30)\n",
            "List slice: [10, 20, 30]\n"
          ]
        }
      ]
    },
    {
      "cell_type": "markdown",
      "source": [
        "**Tuples vs. Lists**"
      ],
      "metadata": {
        "id": "zjdF5gB7ic1w"
      }
    },
    {
      "cell_type": "code",
      "source": [
        "# Create a list with 4 items\n",
        "my_list = [\"apple\", \"banana\", \"cherry\", \"date\"]\n",
        "\n",
        "# Convert the list to a tuple\n",
        "my_tuple = tuple(my_list)\n",
        "\n",
        "# Print the list and the tuple\n",
        "print(\"List:\", my_list)\n",
        "print(\"Tuple:\", my_tuple)\n",
        "\n",
        "# Try modifying the list\n",
        "my_list[0] = \"apricot\"\n",
        "print(\"Modified List:\", my_list)\n",
        "\n",
        "# Try modifying the tuple (this will cause an error)\n",
        "my_tuple[0] = \"apricot\"\n",
        "\n",
        "#Print the tuple again to show it was not modified.\n",
        "print(\"Tuple after attempted modification:\", my_tuple)"
      ],
      "metadata": {
        "colab": {
          "base_uri": "https://localhost:8080/",
          "height": 272
        },
        "id": "2S_phpB5idt3",
        "outputId": "bb6d7749-344a-4e70-a63c-504cc9a328c5"
      },
      "execution_count": 12,
      "outputs": [
        {
          "output_type": "stream",
          "name": "stdout",
          "text": [
            "List: ['apple', 'banana', 'cherry', 'date']\n",
            "Tuple: ('apple', 'banana', 'cherry', 'date')\n",
            "Modified List: ['apricot', 'banana', 'cherry', 'date']\n"
          ]
        },
        {
          "output_type": "error",
          "ename": "TypeError",
          "evalue": "'tuple' object does not support item assignment",
          "traceback": [
            "\u001b[0;31m---------------------------------------------------------------------------\u001b[0m",
            "\u001b[0;31mTypeError\u001b[0m                                 Traceback (most recent call last)",
            "\u001b[0;32m<ipython-input-12-80e9502301be>\u001b[0m in \u001b[0;36m<cell line: 0>\u001b[0;34m()\u001b[0m\n\u001b[1;32m     14\u001b[0m \u001b[0;34m\u001b[0m\u001b[0m\n\u001b[1;32m     15\u001b[0m \u001b[0;31m# Try modifying the tuple (this will cause an error)\u001b[0m\u001b[0;34m\u001b[0m\u001b[0;34m\u001b[0m\u001b[0m\n\u001b[0;32m---> 16\u001b[0;31m \u001b[0mmy_tuple\u001b[0m\u001b[0;34m[\u001b[0m\u001b[0;36m0\u001b[0m\u001b[0;34m]\u001b[0m \u001b[0;34m=\u001b[0m \u001b[0;34m\"apricot\"\u001b[0m\u001b[0;34m\u001b[0m\u001b[0;34m\u001b[0m\u001b[0m\n\u001b[0m\u001b[1;32m     17\u001b[0m \u001b[0;34m\u001b[0m\u001b[0m\n\u001b[1;32m     18\u001b[0m \u001b[0;31m#Print the tuple again to show it was not modified.\u001b[0m\u001b[0;34m\u001b[0m\u001b[0;34m\u001b[0m\u001b[0m\n",
            "\u001b[0;31mTypeError\u001b[0m: 'tuple' object does not support item assignment"
          ]
        }
      ]
    },
    {
      "cell_type": "markdown",
      "source": [
        "**Accessing Dictionary Values**"
      ],
      "metadata": {
        "id": "TtrOsecbjf6y"
      }
    },
    {
      "cell_type": "code",
      "source": [
        "# Create a dictionary with 3 key-value pairs\n",
        "my_dict = {\n",
        "    \"name\": \"Alice\",\n",
        "    \"age\": 30,\n",
        "    \"city\": \"Sydney\"\n",
        "}\n",
        "\n",
        "# Print the dictionary\n",
        "print(my_dict)\n",
        "\n",
        "# Print one value by key\n",
        "print(\"\\nName:\", my_dict[\"name\"])\n",
        "\n",
        "# Print all keys\n",
        "print(\"\\nAll keys:\", my_dict.keys())\n",
        "\n",
        "# Try a nonexistent key with .get()\n",
        "print(\"\\nTrying a nonexistent key with .get():\")\n",
        "print(\"Value for 'occupation':\", my_dict.get(\"occupation\"))  # Key doesn't exist, returns None\n",
        "print(\"Value for 'occupation' with default:\", my_dict.get(\"occupation\", \"Unknown\"))  # Key doesn't exist, returns \"Unknown\""
      ],
      "metadata": {
        "colab": {
          "base_uri": "https://localhost:8080/"
        },
        "id": "JlcJ0BBckmhp",
        "outputId": "f0c90aa4-3e95-4e14-9e45-71d75b9899d5"
      },
      "execution_count": 16,
      "outputs": [
        {
          "output_type": "stream",
          "name": "stdout",
          "text": [
            "{'name': 'Alice', 'age': 30, 'city': 'Sydney'}\n",
            "\n",
            "Name: Alice\n",
            "\n",
            "All keys: dict_keys(['name', 'age', 'city'])\n",
            "\n",
            "Trying a nonexistent key with .get():\n",
            "Value for 'occupation': None\n",
            "Value for 'occupation' with default: Unknown\n"
          ]
        }
      ]
    },
    {
      "cell_type": "markdown",
      "source": [
        "**Modifying Dictionaries**"
      ],
      "metadata": {
        "id": "4aZw1M64kXUp"
      }
    },
    {
      "cell_type": "code",
      "source": [
        "my_dict = {\"name\": \"Ali\", \"age\": 30}\n",
        "print(\"Initial dictionary:\", my_dict)\n",
        "\n",
        "# Update a value\n",
        "my_dict[\"age\"] = 31\n",
        "print(\"After updating age:\", my_dict)\n",
        "\n",
        "# Add a new key-value pair\n",
        "my_dict[\"city\"] = \"Melbourne\"\n",
        "print(\"After adding city:\", my_dict)\n",
        "\n",
        "# Remove a key-value pair\n",
        "del my_dict[\"name\"]\n",
        "print(\"After removing name:\", my_dict)"
      ],
      "metadata": {
        "id": "QEt3HuGXkWw4",
        "outputId": "8c123774-f61f-49bc-8fd1-2f6c45a78bba",
        "colab": {
          "base_uri": "https://localhost:8080/"
        }
      },
      "execution_count": null,
      "outputs": [
        {
          "output_type": "stream",
          "name": "stdout",
          "text": [
            "Initial dictionary: {'name': 'Ali', 'age': 30}\n",
            "After updating age: {'name': 'Ali', 'age': 31}\n",
            "After adding city: {'name': 'Ali', 'age': 31, 'city': 'Melbourne'}\n",
            "After removing name: {'age': 31, 'city': 'Melbourne'}\n"
          ]
        }
      ]
    },
    {
      "cell_type": "code",
      "source": [
        "# Create a dictionary\n",
        "my_dict = {\n",
        "    \"name\": \"Alice\",\n",
        "    \"age\": 30,\n",
        "    \"city\": \"Sydney\"\n",
        "}\n",
        "\n",
        "# Print the dictionary's values\n",
        "print(\"Dictionary values:\", my_dict.values())\n",
        "\n",
        "# Print the dictionary's items (key-value pairs)\n",
        "print(\"Dictionary items:\", my_dict.items())\n",
        "\n",
        "# Clear the dictionary\n",
        "my_dict.clear()\n",
        "\n",
        "# Print the empty dictionary\n",
        "print(\"Cleared dictionary:\", my_dict)"
      ],
      "metadata": {
        "colab": {
          "base_uri": "https://localhost:8080/"
        },
        "id": "gL-y0hA3mC7S",
        "outputId": "ddb876c8-3ed6-4152-dabc-02133fbc4058"
      },
      "execution_count": 18,
      "outputs": [
        {
          "output_type": "stream",
          "name": "stdout",
          "text": [
            "Dictionary values: dict_values(['Alice', 30, 'Sydney'])\n",
            "Dictionary items: dict_items([('name', 'Alice'), ('age', 30), ('city', 'Sydney')])\n",
            "Cleared dictionary: {}\n"
          ]
        }
      ]
    },
    {
      "cell_type": "markdown",
      "source": [
        "**Shopping List**"
      ],
      "metadata": {
        "id": "9o0uIR5rmjW7"
      }
    },
    {
      "cell_type": "code",
      "source": [
        "# Create a list of shopping items\n",
        "items = [\"milk\", \"bread\"]\n",
        "# Create a dictionary of prices\n",
        "prices = {\"milk\": 2.5, \"bread\": 1.5}\n",
        "# Print the initial lists\n",
        "print(\"Initial shopping list:\", items)\n",
        "print(\"Initial prices:\", prices)\n",
        "# Add a third item and price\n",
        "items.append(\"eggs\")\n",
        "prices[\"eggs\"] = 3.0\n",
        "# Print the updated lists\n",
        "print(\"Updated shopping list:\", items)\n",
        "print(\"Updated prices:\", prices)\n",
        "# Access a specific entry using indexing and keys\n",
        "print(f\"Price of milk: {prices['milk']}\")\n",
        "print(f\"Second item in list: {items[1]}\")\n",
        "# Calculate the total cost\n",
        "total_cost = prices[\"milk\"] + prices[\"bread\"] + prices[\"eggs\"]\n",
        "print(f\"Total cost: ${total_cost:.2f}\")\n",
        "# Share the total with a neighbor (simulated)\n",
        "print(\"Sharing total cost with a neighbor...\")\n",
        "print(\"Neighbor says: \\\"The total cost is\",total_cost, \"\\\"\")"
      ],
      "metadata": {
        "colab": {
          "base_uri": "https://localhost:8080/"
        },
        "id": "Ire-Zbi5mmLm",
        "outputId": "c0b9330f-2d32-4fe2-c12b-ec3a15ea535c"
      },
      "execution_count": 22,
      "outputs": [
        {
          "output_type": "stream",
          "name": "stdout",
          "text": [
            "Initial shopping list: ['milk', 'bread']\n",
            "Initial prices: {'milk': 2.5, 'bread': 1.5}\n",
            "Updated shopping list: ['milk', 'bread', 'eggs']\n",
            "Updated prices: {'milk': 2.5, 'bread': 1.5, 'eggs': 3.0}\n",
            "Price of milk: 2.5\n",
            "Second item in list: bread\n",
            "Total cost: $7.00\n",
            "Sharing total cost with a neighbor...\n",
            "Neighbor says: \"The total cost is 7.0 \"\n"
          ]
        }
      ]
    }
  ],
  "metadata": {
    "colab": {
      "name": "Chapter_2",
      "provenance": [],
      "include_colab_link": true
    },
    "kernelspec": {
      "display_name": "Python 3",
      "name": "python3"
    }
  },
  "nbformat": 4,
  "nbformat_minor": 0
}